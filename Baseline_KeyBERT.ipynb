{
 "cells": [
  {
   "cell_type": "code",
   "execution_count": 1,
   "id": "9084fb3a",
   "metadata": {},
   "outputs": [],
   "source": [
    "from keybert import KeyBERT\n",
    "import os\n",
    "import pandas as pd\n",
    "from tqdm import tqdm"
   ]
  },
  {
   "cell_type": "code",
   "execution_count": 2,
   "id": "af9acef8",
   "metadata": {},
   "outputs": [],
   "source": [
    "filepath = 'data/preprocessed_1997Q1-2019Q3.csv'\n",
    "\n",
    "save_dir = '/media/dmlab/My Passport/DATA/hot_topic_detection_in_central_bankers_speeches'\n",
    "save_filepath = os.path.join(save_dir, 'top5_hot_topics_bigram_KeyBERT.csv')"
   ]
  },
  {
   "cell_type": "code",
   "execution_count": 3,
   "id": "0f4f68f2",
   "metadata": {},
   "outputs": [
    {
     "name": "stdout",
     "output_type": "stream",
     "text": [
      "['1998_Q1', '1998_Q2', '1998_Q3', '1998_Q4', '1999_Q1', '1999_Q2', '1999_Q3', '1999_Q4', '2000_Q1', '2000_Q2', '2000_Q3', '2000_Q4', '2001_Q1', '2001_Q2', '2001_Q3', '2001_Q4', '2002_Q1', '2002_Q2', '2002_Q3', '2002_Q4', '2003_Q1', '2003_Q2', '2003_Q3', '2003_Q4', '2004_Q1', '2004_Q2', '2004_Q3', '2004_Q4', '2005_Q1', '2005_Q2', '2005_Q3', '2005_Q4', '2006_Q1', '2006_Q2', '2006_Q3', '2006_Q4', '2007_Q1', '2007_Q2', '2007_Q3', '2007_Q4', '2008_Q1', '2008_Q2', '2008_Q3', '2008_Q4', '2009_Q1', '2009_Q2', '2009_Q3', '2009_Q4', '2010_Q1', '2010_Q2', '2010_Q3', '2010_Q4', '2011_Q1', '2011_Q2', '2011_Q3', '2011_Q4', '2012_Q1', '2012_Q2', '2012_Q3', '2012_Q4', '2013_Q1', '2013_Q2', '2013_Q3', '2013_Q4', '2014_Q1', '2014_Q2', '2014_Q3', '2014_Q4', '2015_Q1', '2015_Q2', '2015_Q3', '2015_Q4', '2016_Q1', '2016_Q2', '2016_Q3', '2016_Q4', '2017_Q1', '2017_Q2', '2017_Q3', '2017_Q4', '2018_Q1', '2018_Q2', '2018_Q3', '2018_Q4', '2019_Q1', '2019_Q2', '2019_Q3']\n"
     ]
    },
    {
     "data": {
      "text/html": [
       "<div>\n",
       "<style scoped>\n",
       "    .dataframe tbody tr th:only-of-type {\n",
       "        vertical-align: middle;\n",
       "    }\n",
       "\n",
       "    .dataframe tbody tr th {\n",
       "        vertical-align: top;\n",
       "    }\n",
       "\n",
       "    .dataframe thead th {\n",
       "        text-align: right;\n",
       "    }\n",
       "</style>\n",
       "<table border=\"1\" class=\"dataframe\">\n",
       "  <thead>\n",
       "    <tr style=\"text-align: right;\">\n",
       "      <th></th>\n",
       "      <th>tokens</th>\n",
       "      <th>num_of_tokens</th>\n",
       "    </tr>\n",
       "    <tr>\n",
       "      <th>period</th>\n",
       "      <th></th>\n",
       "      <th></th>\n",
       "    </tr>\n",
       "  </thead>\n",
       "  <tbody>\n",
       "    <tr>\n",
       "      <th>1997_Q1</th>\n",
       "      <td>address key role remark chairman governor u re...</td>\n",
       "      <td>16246</td>\n",
       "    </tr>\n",
       "    <tr>\n",
       "      <th>1997_Q2</th>\n",
       "      <td>highlight key aspect current economic situatio...</td>\n",
       "      <td>13432</td>\n",
       "    </tr>\n",
       "    <tr>\n",
       "      <th>1997_Q3</th>\n",
       "      <td>present view reserve semi annual humphrey hawk...</td>\n",
       "      <td>6409</td>\n",
       "    </tr>\n",
       "    <tr>\n",
       "      <th>1997_Q4</th>\n",
       "      <td>considers effect technological change remark c...</td>\n",
       "      <td>15038</td>\n",
       "    </tr>\n",
       "    <tr>\n",
       "      <th>1998_Q1</th>\n",
       "      <td>s remark american economic association america...</td>\n",
       "      <td>10804</td>\n",
       "    </tr>\n",
       "  </tbody>\n",
       "</table>\n",
       "</div>"
      ],
      "text/plain": [
       "                                                    tokens  num_of_tokens\n",
       "period                                                                   \n",
       "1997_Q1  address key role remark chairman governor u re...          16246\n",
       "1997_Q2  highlight key aspect current economic situatio...          13432\n",
       "1997_Q3  present view reserve semi annual humphrey hawk...           6409\n",
       "1997_Q4  considers effect technological change remark c...          15038\n",
       "1998_Q1  s remark american economic association america...          10804"
      ]
     },
     "execution_count": 3,
     "metadata": {},
     "output_type": "execute_result"
    }
   ],
   "source": [
    "df = pd.read_csv(filepath)\n",
    "sorted_periods = sorted(df[df['period'].apply(lambda x: x[:4]!='1997')].period.unique())\n",
    "df.set_index('period', inplace=True)\n",
    "print(sorted_periods)\n",
    "df.head()"
   ]
  },
  {
   "cell_type": "code",
   "execution_count": 4,
   "id": "6c3c4a8a",
   "metadata": {},
   "outputs": [],
   "source": [
    "kw_model = KeyBERT()"
   ]
  },
  {
   "cell_type": "code",
   "execution_count": 5,
   "id": "2495d6f4",
   "metadata": {},
   "outputs": [
    {
     "name": "stderr",
     "output_type": "stream",
     "text": [
      "100%|██████████| 87/87 [02:26<00:00,  1.69s/it]"
     ]
    },
    {
     "name": "stdout",
     "output_type": "stream",
     "text": [
      "Created /media/dmlab/My Passport/DATA/hot_topic_detection_in_central_bankers_speeches/top5_hot_topics_bigram_KeyBERT.csv\n"
     ]
    },
    {
     "name": "stderr",
     "output_type": "stream",
     "text": [
      "\n"
     ]
    }
   ],
   "source": [
    "dfs = []\n",
    "for period in tqdm(sorted_periods):\n",
    "    doc = df.loc[period]['tokens']\n",
    "    keywords = kw_model.extract_keywords(doc, keyphrase_ngram_range=(2, 2))\n",
    "    one_period_df = pd.DataFrame(keywords, columns=['word', 'score'])\n",
    "    one_period_df['period'] = period\n",
    "    dfs.append(one_period_df)\n",
    "top5_df = pd.concat(dfs)\n",
    "\n",
    "top5_df.to_csv(save_filepath, index=False)\n",
    "print('Created {}'.format(save_filepath))"
   ]
  },
  {
   "cell_type": "code",
   "execution_count": 6,
   "id": "348085e4",
   "metadata": {},
   "outputs": [
    {
     "data": {
      "text/html": [
       "<div>\n",
       "<style scoped>\n",
       "    .dataframe tbody tr th:only-of-type {\n",
       "        vertical-align: middle;\n",
       "    }\n",
       "\n",
       "    .dataframe tbody tr th {\n",
       "        vertical-align: top;\n",
       "    }\n",
       "\n",
       "    .dataframe thead th {\n",
       "        text-align: right;\n",
       "    }\n",
       "</style>\n",
       "<table border=\"1\" class=\"dataframe\">\n",
       "  <thead>\n",
       "    <tr style=\"text-align: right;\">\n",
       "      <th></th>\n",
       "      <th>word</th>\n",
       "      <th>score</th>\n",
       "      <th>period</th>\n",
       "    </tr>\n",
       "  </thead>\n",
       "  <tbody>\n",
       "    <tr>\n",
       "      <th>0</th>\n",
       "      <td>trend capitalism</td>\n",
       "      <td>0.5254</td>\n",
       "      <td>1998_Q2</td>\n",
       "    </tr>\n",
       "    <tr>\n",
       "      <th>1</th>\n",
       "      <td>century capitalism</td>\n",
       "      <td>0.5071</td>\n",
       "      <td>1998_Q2</td>\n",
       "    </tr>\n",
       "    <tr>\n",
       "      <th>2</th>\n",
       "      <td>capitalism current</td>\n",
       "      <td>0.5015</td>\n",
       "      <td>1998_Q2</td>\n",
       "    </tr>\n",
       "    <tr>\n",
       "      <th>3</th>\n",
       "      <td>capitalism emphasis</td>\n",
       "      <td>0.4980</td>\n",
       "      <td>1998_Q2</td>\n",
       "    </tr>\n",
       "    <tr>\n",
       "      <th>4</th>\n",
       "      <td>form capitalism</td>\n",
       "      <td>0.4965</td>\n",
       "      <td>1998_Q2</td>\n",
       "    </tr>\n",
       "    <tr>\n",
       "      <th>0</th>\n",
       "      <td>economy rising</td>\n",
       "      <td>0.5577</td>\n",
       "      <td>2000_Q1</td>\n",
       "    </tr>\n",
       "    <tr>\n",
       "      <th>1</th>\n",
       "      <td>new economy</td>\n",
       "      <td>0.5434</td>\n",
       "      <td>2000_Q1</td>\n",
       "    </tr>\n",
       "    <tr>\n",
       "      <th>2</th>\n",
       "      <td>continued economic</td>\n",
       "      <td>0.5430</td>\n",
       "      <td>2000_Q1</td>\n",
       "    </tr>\n",
       "    <tr>\n",
       "      <th>3</th>\n",
       "      <td>economy strengthening</td>\n",
       "      <td>0.5422</td>\n",
       "      <td>2000_Q1</td>\n",
       "    </tr>\n",
       "    <tr>\n",
       "      <th>4</th>\n",
       "      <td>economy recent</td>\n",
       "      <td>0.5367</td>\n",
       "      <td>2000_Q1</td>\n",
       "    </tr>\n",
       "    <tr>\n",
       "      <th>0</th>\n",
       "      <td>regulation reserve</td>\n",
       "      <td>0.4675</td>\n",
       "      <td>2007_Q2</td>\n",
       "    </tr>\n",
       "    <tr>\n",
       "      <th>1</th>\n",
       "      <td>reserve act</td>\n",
       "      <td>0.4571</td>\n",
       "      <td>2007_Q2</td>\n",
       "    </tr>\n",
       "    <tr>\n",
       "      <th>2</th>\n",
       "      <td>revise regulation</td>\n",
       "      <td>0.4461</td>\n",
       "      <td>2007_Q2</td>\n",
       "    </tr>\n",
       "    <tr>\n",
       "      <th>3</th>\n",
       "      <td>creditor government</td>\n",
       "      <td>0.4433</td>\n",
       "      <td>2007_Q2</td>\n",
       "    </tr>\n",
       "    <tr>\n",
       "      <th>4</th>\n",
       "      <td>compliance cra</td>\n",
       "      <td>0.4342</td>\n",
       "      <td>2007_Q2</td>\n",
       "    </tr>\n",
       "  </tbody>\n",
       "</table>\n",
       "</div>"
      ],
      "text/plain": [
       "                    word   score   period\n",
       "0       trend capitalism  0.5254  1998_Q2\n",
       "1     century capitalism  0.5071  1998_Q2\n",
       "2     capitalism current  0.5015  1998_Q2\n",
       "3    capitalism emphasis  0.4980  1998_Q2\n",
       "4        form capitalism  0.4965  1998_Q2\n",
       "0         economy rising  0.5577  2000_Q1\n",
       "1            new economy  0.5434  2000_Q1\n",
       "2     continued economic  0.5430  2000_Q1\n",
       "3  economy strengthening  0.5422  2000_Q1\n",
       "4         economy recent  0.5367  2000_Q1\n",
       "0     regulation reserve  0.4675  2007_Q2\n",
       "1            reserve act  0.4571  2007_Q2\n",
       "2      revise regulation  0.4461  2007_Q2\n",
       "3    creditor government  0.4433  2007_Q2\n",
       "4         compliance cra  0.4342  2007_Q2"
      ]
     },
     "execution_count": 6,
     "metadata": {},
     "output_type": "execute_result"
    }
   ],
   "source": [
    "# Key periods\n",
    "top5_df[(top5_df['period'].isin(['1998_Q2', '2000_Q1', '2007_Q2']))]"
   ]
  }
 ],
 "metadata": {
  "kernelspec": {
   "display_name": "torchtext",
   "language": "python",
   "name": "torchtext"
  },
  "language_info": {
   "codemirror_mode": {
    "name": "ipython",
    "version": 3
   },
   "file_extension": ".py",
   "mimetype": "text/x-python",
   "name": "python",
   "nbconvert_exporter": "python",
   "pygments_lexer": "ipython3",
   "version": "3.6.5"
  }
 },
 "nbformat": 4,
 "nbformat_minor": 5
}
