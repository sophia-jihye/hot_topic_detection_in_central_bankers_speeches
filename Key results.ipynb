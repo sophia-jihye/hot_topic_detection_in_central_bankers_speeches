{
 "cells": [
  {
   "cell_type": "code",
   "execution_count": 1,
   "id": "4664e216",
   "metadata": {},
   "outputs": [],
   "source": [
    "import os\n",
    "import pandas as pd"
   ]
  },
  {
   "cell_type": "code",
   "execution_count": 2,
   "id": "8c1716f2",
   "metadata": {},
   "outputs": [],
   "source": [
    "filepath_format = 'results/candidates_{}_{}.csv'"
   ]
  },
  {
   "cell_type": "code",
   "execution_count": 13,
   "id": "a4ebcb87",
   "metadata": {},
   "outputs": [
    {
     "name": "stdout",
     "output_type": "stream",
     "text": [
      "bigram frequency\n",
      "        period             word  score\n",
      "50744  1998_Q2        have been     35\n",
      "51203  1998_Q2       safety net     13\n",
      "51078  1998_Q2  standard living     13\n",
      "51902  1998_Q2    interest rate     11\n",
      "51864  1998_Q2         not have     10\n",
      "bigram emergence\n",
      "        period                word      score\n",
      "9003   1998_Q2           east asia  22.755556\n",
      "11088  1998_Q2          new system  20.597701\n",
      "13408  1998_Q2               imf s  14.883721\n",
      "10870  1998_Q2  nonperforming loan  14.545455\n",
      "9266   1998_Q2           high tech  14.222222\n",
      "collocation frequency\n",
      "         period       word  score\n",
      "572653  1998_Q2  have been     87\n",
      "573744  1998_Q2   not have     54\n",
      "573611  1998_Q2     is not     49\n",
      "579575  1998_Q2      be is     45\n",
      "574106  1998_Q2  system is     43\n",
      "collocation emergence\n",
      "         period           word       score\n",
      "110489  1998_Q2         be not  102.400000\n",
      "105030  1998_Q2     new system   72.282353\n",
      "116816  1998_Q2  is government   57.223529\n",
      "114756  1998_Q2      been year   57.223529\n",
      "122747  1998_Q2   more economy   48.188235\n",
      "bigram frequency\n",
      "        period                    word  score\n",
      "89766  2000_Q1               have been     32\n",
      "89836  2000_Q1            good service     21\n",
      "89769  2000_Q1             recent year     20\n",
      "89954  2000_Q1  information technology     18\n",
      "91166  2000_Q1           wealth effect     14\n",
      "bigram emergence\n",
      "        period                    word      score\n",
      "48240  2000_Q1  information technology  38.722689\n",
      "49498  2000_Q1           demand supply  36.141176\n",
      "49865  2000_Q1           excess demand  30.117647\n",
      "49687  2000_Q1              net import  27.105882\n",
      "50473  2000_Q1           working group  24.094118\n",
      "collocation frequency\n",
      "          period       word  score\n",
      "1031682  2000_Q1      be is     72\n",
      "1024676  2000_Q1  have been     70\n",
      "1026320  2000_Q1     be are     48\n",
      "1032348  2000_Q1     is are     44\n",
      "1033615  2000_Q1   are have     41\n",
      "collocation emergence\n",
      "         period                    word       score\n",
      "561896  2000_Q1                  not is  114.447059\n",
      "556424  2000_Q1           demand supply  111.435294\n",
      "562175  2000_Q1           is technology   93.364706\n",
      "567689  2000_Q1               is worker   90.352941\n",
      "555226  2000_Q1  information technology   79.596639\n",
      "bigram frequency\n",
      "         period               word  score\n",
      "320550  2007_Q2         hedge fund     55\n",
      "318068  2007_Q2                u s     52\n",
      "320292  2007_Q2       united state     34\n",
      "320099  2007_Q2  subprime mortgage     32\n",
      "317797  2007_Q2     reserve system     24\n",
      "bigram emergence\n",
      "         period               word      score\n",
      "278385  2007_Q2  subprime mortgage  86.231579\n",
      "289128  2007_Q2    finance premium  60.235294\n",
      "289127  2007_Q2   external finance  60.235294\n",
      "285451  2007_Q2          cash flow  48.188235\n",
      "282040  2007_Q2           job loss  41.195402\n",
      "collocation frequency\n",
      "          period               word  score\n",
      "3607442  2007_Q2  subprime mortgage    106\n",
      "3607876  2007_Q2         hedge fund     98\n",
      "3605521  2007_Q2                u s     98\n",
      "3614812  2007_Q2      mortgage have     65\n",
      "3635245  2007_Q2             be are     61\n",
      "collocation emergence\n",
      "          period               word       score\n",
      "3165613  2007_Q2             be are  183.717647\n",
      "3137810  2007_Q2  subprime mortgage  172.840764\n",
      "3144846  2007_Q2      rate mortgage  156.611765\n",
      "3159196  2007_Q2      subprime have  139.377778\n",
      "3156284  2007_Q2             be not  132.517647\n"
     ]
    }
   ],
   "source": [
    "# Key results\n",
    "for period in ['1998_Q2', '2000_Q1', '2007_Q2']:\n",
    "    for (candidate, scoring) in [('bigram', 'frequency'), ('bigram', 'emergence'),\\\n",
    "                                 ('collocation', 'frequency'), ('collocation', 'emergence')]:\n",
    "        print(candidate, scoring)\n",
    "        filepath = filepath_format.format(candidate, scoring)\n",
    "        df = pd.read_csv(filepath)\n",
    "        print(df[(df['period']==period)].sort_values(by=['score'], ascending=False).iloc[:5])"
   ]
  },
  {
   "cell_type": "code",
   "execution_count": 16,
   "id": "ff9e21e5",
   "metadata": {},
   "outputs": [
    {
     "name": "stdout",
     "output_type": "stream",
     "text": [
      "bigram frequency\n",
      "         period               word  score\n",
      "311074  2007_Q1  subprime mortgage      6\n",
      "320099  2007_Q2  subprime mortgage     32\n",
      "bigram emergence\n",
      "         period               word      score\n",
      "269360  2007_Q1  subprime mortgage  17.860465\n",
      "278385  2007_Q2  subprime mortgage  86.231579\n",
      "collocation frequency\n",
      "          period               word  score\n",
      "3464745  2007_Q1  subprime mortgage     20\n",
      "3607442  2007_Q2  subprime mortgage    106\n",
      "collocation emergence\n",
      "          period               word       score\n",
      "2995113  2007_Q1  subprime mortgage   52.244898\n",
      "3137810  2007_Q2  subprime mortgage  172.840764\n"
     ]
    }
   ],
   "source": [
    "# \"subprime mortgage\"\n",
    "for (candidate, scoring) in [('bigram', 'frequency'), ('bigram', 'emergence'),\\\n",
    "                                 ('collocation', 'frequency'), ('collocation', 'emergence')]:\n",
    "    print(candidate, scoring)\n",
    "    filepath = filepath_format.format(candidate, scoring)\n",
    "    df = pd.read_csv(filepath)\n",
    "    print(df[(df['period'].isin(['2007_Q1', '2007_Q2'])) & (df['word']=='subprime mortgage')])"
   ]
  }
 ],
 "metadata": {
  "kernelspec": {
   "display_name": "torchtext",
   "language": "python",
   "name": "torchtext"
  },
  "language_info": {
   "codemirror_mode": {
    "name": "ipython",
    "version": 3
   },
   "file_extension": ".py",
   "mimetype": "text/x-python",
   "name": "python",
   "nbconvert_exporter": "python",
   "pygments_lexer": "ipython3",
   "version": "3.6.5"
  }
 },
 "nbformat": 4,
 "nbformat_minor": 5
}
