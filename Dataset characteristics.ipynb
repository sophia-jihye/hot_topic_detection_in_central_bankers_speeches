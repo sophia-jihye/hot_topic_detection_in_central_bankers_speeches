{
 "cells": [
  {
   "cell_type": "code",
   "execution_count": 14,
   "id": "a7426320",
   "metadata": {},
   "outputs": [],
   "source": [
    "import os\n",
    "import pandas as pd"
   ]
  },
  {
   "cell_type": "code",
   "execution_count": 15,
   "id": "39307377",
   "metadata": {},
   "outputs": [],
   "source": [
    "filepath = 'data/Fed_chairs_199701-201909_491.csv'"
   ]
  },
  {
   "cell_type": "code",
   "execution_count": 16,
   "id": "f42b777d",
   "metadata": {},
   "outputs": [
    {
     "name": "stdout",
     "output_type": "stream",
     "text": [
      "Number of documents: 491\n"
     ]
    },
    {
     "data": {
      "text/html": [
       "<div>\n",
       "<style scoped>\n",
       "    .dataframe tbody tr th:only-of-type {\n",
       "        vertical-align: middle;\n",
       "    }\n",
       "\n",
       "    .dataframe tbody tr th {\n",
       "        vertical-align: top;\n",
       "    }\n",
       "\n",
       "    .dataframe thead th {\n",
       "        text-align: right;\n",
       "    }\n",
       "</style>\n",
       "<table border=\"1\" class=\"dataframe\">\n",
       "  <thead>\n",
       "    <tr style=\"text-align: right;\">\n",
       "      <th></th>\n",
       "      <th>content</th>\n",
       "      <th>date</th>\n",
       "      <th>key</th>\n",
       "      <th>pdf_url</th>\n",
       "      <th>short_info</th>\n",
       "      <th>speaker</th>\n",
       "      <th>title</th>\n",
       "    </tr>\n",
       "  </thead>\n",
       "  <tbody>\n",
       "    <tr>\n",
       "      <th>0</th>\n",
       "      <td>Mr Greenspan discusses technology and the US e...</td>\n",
       "      <td>2000-01-17</td>\n",
       "      <td>r000117a</td>\n",
       "      <td>https://www.bis.org/review/r000117a.pdf</td>\n",
       "      <td>Remarks by Mr Alan Greenspan  Chairman of the ...</td>\n",
       "      <td>Greenspan</td>\n",
       "      <td>Mr Greenspan discusses technology and the US e...</td>\n",
       "    </tr>\n",
       "    <tr>\n",
       "      <th>1</th>\n",
       "      <td>Mr Greenspan gives a testimony on over-the-cou...</td>\n",
       "      <td>2000-02-16</td>\n",
       "      <td>r000216a</td>\n",
       "      <td>https://www.bis.org/review/r000216a.pdf</td>\n",
       "      <td>Testimony of Mr Alan Greenspan  Chairman of th...</td>\n",
       "      <td>Greenspan</td>\n",
       "      <td>Mr Greenspan gives a testimony on over-the-cou...</td>\n",
       "    </tr>\n",
       "    <tr>\n",
       "      <th>2</th>\n",
       "      <td>Mr Greenspan presents the Federal Reserve’s se...</td>\n",
       "      <td>2000-02-18</td>\n",
       "      <td>r000218b</td>\n",
       "      <td>https://www.bis.org/review/r000218b.pdf</td>\n",
       "      <td>Testimony of Mr Alan Greenspan  Chairman of th...</td>\n",
       "      <td>Greenspan</td>\n",
       "      <td>Mr Greenspan presents the Federal Reserve's se...</td>\n",
       "    </tr>\n",
       "    <tr>\n",
       "      <th>3</th>\n",
       "      <td>Mr Greenspan focuses on the revolution in info...</td>\n",
       "      <td>2000-02-10</td>\n",
       "      <td>r000310a</td>\n",
       "      <td>https://www.bis.org/review/r000310a.pdf</td>\n",
       "      <td>Speech by Mr Alan Greenspan  Chairman of the B...</td>\n",
       "      <td>Greenspan</td>\n",
       "      <td>Mr Greenspan focuses on the revolution in info...</td>\n",
       "    </tr>\n",
       "    <tr>\n",
       "      <th>4</th>\n",
       "      <td>Mr Greenspan remarks on some of the economic c...</td>\n",
       "      <td>2000-02-24</td>\n",
       "      <td>r000324a</td>\n",
       "      <td>https://www.bis.org/review/r000324a.pdf</td>\n",
       "      <td>Remarks by Mr Alan Greenspan  Chairman of the ...</td>\n",
       "      <td>Greenspan</td>\n",
       "      <td>Mr Greenspan remarks on some of the economic c...</td>\n",
       "    </tr>\n",
       "  </tbody>\n",
       "</table>\n",
       "</div>"
      ],
      "text/plain": [
       "                                             content        date       key  \\\n",
       "0  Mr Greenspan discusses technology and the US e...  2000-01-17  r000117a   \n",
       "1  Mr Greenspan gives a testimony on over-the-cou...  2000-02-16  r000216a   \n",
       "2  Mr Greenspan presents the Federal Reserve’s se...  2000-02-18  r000218b   \n",
       "3  Mr Greenspan focuses on the revolution in info...  2000-02-10  r000310a   \n",
       "4  Mr Greenspan remarks on some of the economic c...  2000-02-24  r000324a   \n",
       "\n",
       "                                   pdf_url  \\\n",
       "0  https://www.bis.org/review/r000117a.pdf   \n",
       "1  https://www.bis.org/review/r000216a.pdf   \n",
       "2  https://www.bis.org/review/r000218b.pdf   \n",
       "3  https://www.bis.org/review/r000310a.pdf   \n",
       "4  https://www.bis.org/review/r000324a.pdf   \n",
       "\n",
       "                                          short_info    speaker  \\\n",
       "0  Remarks by Mr Alan Greenspan  Chairman of the ...  Greenspan   \n",
       "1  Testimony of Mr Alan Greenspan  Chairman of th...  Greenspan   \n",
       "2  Testimony of Mr Alan Greenspan  Chairman of th...  Greenspan   \n",
       "3  Speech by Mr Alan Greenspan  Chairman of the B...  Greenspan   \n",
       "4  Remarks by Mr Alan Greenspan  Chairman of the ...  Greenspan   \n",
       "\n",
       "                                               title  \n",
       "0  Mr Greenspan discusses technology and the US e...  \n",
       "1  Mr Greenspan gives a testimony on over-the-cou...  \n",
       "2  Mr Greenspan presents the Federal Reserve's se...  \n",
       "3  Mr Greenspan focuses on the revolution in info...  \n",
       "4  Mr Greenspan remarks on some of the economic c...  "
      ]
     },
     "execution_count": 16,
     "metadata": {},
     "output_type": "execute_result"
    }
   ],
   "source": [
    "df = pd.read_csv(filepath)\n",
    "print('Number of documents: {}'.format(len(df)))\n",
    "df.head()"
   ]
  },
  {
   "cell_type": "code",
   "execution_count": 17,
   "id": "af785078",
   "metadata": {},
   "outputs": [
    {
     "name": "stdout",
     "output_type": "stream",
     "text": [
      "Greenspan 192\n",
      "Bernanke 218\n",
      "Yellen 57\n",
      "Powell 24\n"
     ]
    }
   ],
   "source": [
    "for speaker in df['speaker'].unique():\n",
    "    print(speaker, len(df[df['speaker']==speaker]))"
   ]
  }
 ],
 "metadata": {
  "kernelspec": {
   "display_name": "Python 3",
   "language": "python",
   "name": "python3"
  },
  "language_info": {
   "codemirror_mode": {
    "name": "ipython",
    "version": 3
   },
   "file_extension": ".py",
   "mimetype": "text/x-python",
   "name": "python",
   "nbconvert_exporter": "python",
   "pygments_lexer": "ipython3",
   "version": "3.6.13"
  }
 },
 "nbformat": 4,
 "nbformat_minor": 5
}
