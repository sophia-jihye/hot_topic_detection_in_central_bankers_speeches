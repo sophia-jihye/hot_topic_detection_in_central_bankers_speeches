{
 "cells": [
  {
   "cell_type": "markdown",
   "metadata": {},
   "source": [
    "KeyBERT: https://github.com/MaartenGr/KeyBERT\n",
    "```python\n",
    "pip install keybert\n",
    "```"
   ]
  },
  {
   "cell_type": "code",
   "execution_count": 1,
   "metadata": {},
   "outputs": [
    {
     "name": "stderr",
     "output_type": "stream",
     "text": [
      "C:\\Users\\Jihye Park\\anaconda3\\lib\\site-packages\\tqdm\\auto.py:22: TqdmWarning: IProgress not found. Please update jupyter and ipywidgets. See https://ipywidgets.readthedocs.io/en/stable/user_install.html\n",
      "  from .autonotebook import tqdm as notebook_tqdm\n"
     ]
    }
   ],
   "source": [
    "from keybert import KeyBERT\n",
    "import os\n",
    "import pandas as pd\n",
    "from tqdm import tqdm"
   ]
  },
  {
   "cell_type": "code",
   "execution_count": 2,
   "metadata": {},
   "outputs": [],
   "source": [
    "filepath = 'data/preprocessed_sentences_for_each_period_1997Q1-2019Q3.csv'\n",
    "\n",
    "save_dir = 'C:\\DATA\\hot_topic_detection_in_central_bankers_speeches'\n",
    "save_filepath = os.path.join(save_dir, 'top5_hot_topics_bigram_KeyBERT.csv')"
   ]
  },
  {
   "cell_type": "code",
   "execution_count": 3,
   "metadata": {},
   "outputs": [
    {
     "name": "stdout",
     "output_type": "stream",
     "text": [
      "['1998_Q1', '1998_Q2', '1998_Q3', '1998_Q4', '1999_Q1', '1999_Q2', '1999_Q3', '1999_Q4', '2000_Q1', '2000_Q2', '2000_Q3', '2000_Q4', '2001_Q1', '2001_Q2', '2001_Q3', '2001_Q4', '2002_Q1', '2002_Q2', '2002_Q3', '2002_Q4', '2003_Q1', '2003_Q2', '2003_Q3', '2003_Q4', '2004_Q1', '2004_Q2', '2004_Q3', '2004_Q4', '2005_Q1', '2005_Q2', '2005_Q3', '2005_Q4', '2006_Q1', '2006_Q2', '2006_Q3', '2006_Q4', '2007_Q1', '2007_Q2', '2007_Q3', '2007_Q4', '2008_Q1', '2008_Q2', '2008_Q3', '2008_Q4', '2009_Q1', '2009_Q2', '2009_Q3', '2009_Q4', '2010_Q1', '2010_Q2', '2010_Q3', '2010_Q4', '2011_Q1', '2011_Q2', '2011_Q3', '2011_Q4', '2012_Q1', '2012_Q2', '2012_Q3', '2012_Q4', '2013_Q1', '2013_Q2', '2013_Q3', '2013_Q4', '2014_Q1', '2014_Q2', '2014_Q3', '2014_Q4', '2015_Q1', '2015_Q2', '2015_Q3', '2015_Q4', '2016_Q1', '2016_Q2', '2016_Q3', '2016_Q4', '2017_Q1', '2017_Q2', '2017_Q3', '2017_Q4', '2018_Q1', '2018_Q2', '2018_Q3', '2018_Q4', '2019_Q1', '2019_Q2', '2019_Q3']\n"
     ]
    },
    {
     "data": {
      "text/html": [
       "<div>\n",
       "<style scoped>\n",
       "    .dataframe tbody tr th:only-of-type {\n",
       "        vertical-align: middle;\n",
       "    }\n",
       "\n",
       "    .dataframe tbody tr th {\n",
       "        vertical-align: top;\n",
       "    }\n",
       "\n",
       "    .dataframe thead th {\n",
       "        text-align: right;\n",
       "    }\n",
       "</style>\n",
       "<table border=\"1\" class=\"dataframe\">\n",
       "  <thead>\n",
       "    <tr style=\"text-align: right;\">\n",
       "      <th></th>\n",
       "      <th>document</th>\n",
       "    </tr>\n",
       "    <tr>\n",
       "      <th>period</th>\n",
       "      <th></th>\n",
       "    </tr>\n",
       "  </thead>\n",
       "  <tbody>\n",
       "    <tr>\n",
       "      <th>1997_Q1</th>\n",
       "      <td>Mr. Greenspan addresses some key roles of a ce...</td>\n",
       "    </tr>\n",
       "    <tr>\n",
       "      <th>1997_Q2</th>\n",
       "      <td>Mr. Greenspan highlights some key aspects of t...</td>\n",
       "    </tr>\n",
       "    <tr>\n",
       "      <th>1997_Q3</th>\n",
       "      <td>Mr. Greenspan presents the views of the Federa...</td>\n",
       "    </tr>\n",
       "    <tr>\n",
       "      <th>1997_Q4</th>\n",
       "      <td>Mr. Greenspan considers some of the effects of...</td>\n",
       "    </tr>\n",
       "    <tr>\n",
       "      <th>1998_Q1</th>\n",
       "      <td>Mr. Greenspan’s remarks to the American Econom...</td>\n",
       "    </tr>\n",
       "  </tbody>\n",
       "</table>\n",
       "</div>"
      ],
      "text/plain": [
       "                                                  document\n",
       "period                                                    \n",
       "1997_Q1  Mr. Greenspan addresses some key roles of a ce...\n",
       "1997_Q2  Mr. Greenspan highlights some key aspects of t...\n",
       "1997_Q3  Mr. Greenspan presents the views of the Federa...\n",
       "1997_Q4  Mr. Greenspan considers some of the effects of...\n",
       "1998_Q1  Mr. Greenspan’s remarks to the American Econom..."
      ]
     },
     "execution_count": 3,
     "metadata": {},
     "output_type": "execute_result"
    }
   ],
   "source": [
    "df = pd.read_csv(filepath)\n",
    "sorted_periods = sorted(df[df['period'].apply(lambda x: x[:4]!='1997')].period.unique())\n",
    "df.set_index('period', inplace=True)\n",
    "print(sorted_periods)\n",
    "df.head()"
   ]
  },
  {
   "cell_type": "code",
   "execution_count": 4,
   "metadata": {},
   "outputs": [],
   "source": [
    "kw_model = KeyBERT()"
   ]
  },
  {
   "cell_type": "code",
   "execution_count": 5,
   "metadata": {},
   "outputs": [
    {
     "name": "stderr",
     "output_type": "stream",
     "text": [
      "100%|██████████████████████████████████████████████████████████████████████████████████| 87/87 [37:20<00:00, 25.75s/it]"
     ]
    },
    {
     "name": "stdout",
     "output_type": "stream",
     "text": [
      "Created C:\\DATA\\hot_topic_detection_in_central_bankers_speeches\\top5_hot_topics_bigram_KeyBERT.csv\n"
     ]
    },
    {
     "name": "stderr",
     "output_type": "stream",
     "text": [
      "\n"
     ]
    }
   ],
   "source": [
    "dfs = []\n",
    "for period in tqdm(sorted_periods):\n",
    "    doc = df.loc[period]['document']\n",
    "    keywords = kw_model.extract_keywords(doc, keyphrase_ngram_range=(2, 2))\n",
    "    one_period_df = pd.DataFrame(keywords, columns=['word', 'score'])\n",
    "    one_period_df['period'] = period\n",
    "    dfs.append(one_period_df)\n",
    "top5_df = pd.concat(dfs)\n",
    "\n",
    "top5_df.to_csv(save_filepath, index=False)\n",
    "print('Created {}'.format(save_filepath))"
   ]
  },
  {
   "cell_type": "code",
   "execution_count": 6,
   "metadata": {},
   "outputs": [
    {
     "data": {
      "text/html": [
       "<div>\n",
       "<style scoped>\n",
       "    .dataframe tbody tr th:only-of-type {\n",
       "        vertical-align: middle;\n",
       "    }\n",
       "\n",
       "    .dataframe tbody tr th {\n",
       "        vertical-align: top;\n",
       "    }\n",
       "\n",
       "    .dataframe thead th {\n",
       "        text-align: right;\n",
       "    }\n",
       "</style>\n",
       "<table border=\"1\" class=\"dataframe\">\n",
       "  <thead>\n",
       "    <tr style=\"text-align: right;\">\n",
       "      <th></th>\n",
       "      <th>word</th>\n",
       "      <th>score</th>\n",
       "      <th>period</th>\n",
       "    </tr>\n",
       "  </thead>\n",
       "  <tbody>\n",
       "    <tr>\n",
       "      <th>0</th>\n",
       "      <td>consumer markets</td>\n",
       "      <td>0.5845</td>\n",
       "      <td>1998_Q2</td>\n",
       "    </tr>\n",
       "    <tr>\n",
       "      <th>1</th>\n",
       "      <td>consumers shifting</td>\n",
       "      <td>0.5727</td>\n",
       "      <td>1998_Q2</td>\n",
       "    </tr>\n",
       "    <tr>\n",
       "      <th>2</th>\n",
       "      <td>retailing supermarkets</td>\n",
       "      <td>0.5565</td>\n",
       "      <td>1998_Q2</td>\n",
       "    </tr>\n",
       "    <tr>\n",
       "      <th>3</th>\n",
       "      <td>forces consumers</td>\n",
       "      <td>0.5520</td>\n",
       "      <td>1998_Q2</td>\n",
       "    </tr>\n",
       "    <tr>\n",
       "      <th>4</th>\n",
       "      <td>consumers evolving</td>\n",
       "      <td>0.5463</td>\n",
       "      <td>1998_Q2</td>\n",
       "    </tr>\n",
       "    <tr>\n",
       "      <th>0</th>\n",
       "      <td>rising inflationary</td>\n",
       "      <td>0.5735</td>\n",
       "      <td>2000_Q1</td>\n",
       "    </tr>\n",
       "    <tr>\n",
       "      <th>1</th>\n",
       "      <td>inflation years</td>\n",
       "      <td>0.5573</td>\n",
       "      <td>2000_Q1</td>\n",
       "    </tr>\n",
       "    <tr>\n",
       "      <th>2</th>\n",
       "      <td>growth inflationary</td>\n",
       "      <td>0.5565</td>\n",
       "      <td>2000_Q1</td>\n",
       "    </tr>\n",
       "    <tr>\n",
       "      <th>3</th>\n",
       "      <td>continued economic</td>\n",
       "      <td>0.5497</td>\n",
       "      <td>2000_Q1</td>\n",
       "    </tr>\n",
       "    <tr>\n",
       "      <th>4</th>\n",
       "      <td>decades economic</td>\n",
       "      <td>0.5456</td>\n",
       "      <td>2000_Q1</td>\n",
       "    </tr>\n",
       "    <tr>\n",
       "      <th>0</th>\n",
       "      <td>financial regulation</td>\n",
       "      <td>0.5796</td>\n",
       "      <td>2007_Q2</td>\n",
       "    </tr>\n",
       "    <tr>\n",
       "      <th>1</th>\n",
       "      <td>financial regulatory</td>\n",
       "      <td>0.5704</td>\n",
       "      <td>2007_Q2</td>\n",
       "    </tr>\n",
       "    <tr>\n",
       "      <th>2</th>\n",
       "      <td>regulation financial</td>\n",
       "      <td>0.5588</td>\n",
       "      <td>2007_Q2</td>\n",
       "    </tr>\n",
       "    <tr>\n",
       "      <th>3</th>\n",
       "      <td>banking regulation</td>\n",
       "      <td>0.5468</td>\n",
       "      <td>2007_Q2</td>\n",
       "    </tr>\n",
       "    <tr>\n",
       "      <th>4</th>\n",
       "      <td>bank regulatory</td>\n",
       "      <td>0.5430</td>\n",
       "      <td>2007_Q2</td>\n",
       "    </tr>\n",
       "  </tbody>\n",
       "</table>\n",
       "</div>"
      ],
      "text/plain": [
       "                     word   score   period\n",
       "0        consumer markets  0.5845  1998_Q2\n",
       "1      consumers shifting  0.5727  1998_Q2\n",
       "2  retailing supermarkets  0.5565  1998_Q2\n",
       "3        forces consumers  0.5520  1998_Q2\n",
       "4      consumers evolving  0.5463  1998_Q2\n",
       "0     rising inflationary  0.5735  2000_Q1\n",
       "1         inflation years  0.5573  2000_Q1\n",
       "2     growth inflationary  0.5565  2000_Q1\n",
       "3      continued economic  0.5497  2000_Q1\n",
       "4        decades economic  0.5456  2000_Q1\n",
       "0    financial regulation  0.5796  2007_Q2\n",
       "1    financial regulatory  0.5704  2007_Q2\n",
       "2    regulation financial  0.5588  2007_Q2\n",
       "3      banking regulation  0.5468  2007_Q2\n",
       "4         bank regulatory  0.5430  2007_Q2"
      ]
     },
     "execution_count": 6,
     "metadata": {},
     "output_type": "execute_result"
    }
   ],
   "source": [
    "# Key periods\n",
    "top5_df[(top5_df['period'].isin(['1998_Q2', '2000_Q1', '2007_Q2']))]"
   ]
  }
 ],
 "metadata": {
  "kernelspec": {
   "display_name": "Python 3 (ipykernel)",
   "language": "python",
   "name": "python3"
  },
  "language_info": {
   "codemirror_mode": {
    "name": "ipython",
    "version": 3
   },
   "file_extension": ".py",
   "mimetype": "text/x-python",
   "name": "python",
   "nbconvert_exporter": "python",
   "pygments_lexer": "ipython3",
   "version": "3.8.5"
  }
 },
 "nbformat": 4,
 "nbformat_minor": 5
}
