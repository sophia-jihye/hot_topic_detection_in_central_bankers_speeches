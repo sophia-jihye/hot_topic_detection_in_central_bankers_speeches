{
 "cells": [
  {
   "cell_type": "code",
   "execution_count": 1,
   "id": "9084fb3a",
   "metadata": {},
   "outputs": [],
   "source": [
    "from gensim.summarization import keywords\n",
    "import os\n",
    "import pandas as pd\n",
    "from tqdm import tqdm"
   ]
  },
  {
   "cell_type": "code",
   "execution_count": 2,
   "id": "af9acef8",
   "metadata": {},
   "outputs": [],
   "source": [
    "filepath = 'data/preprocessed_1997Q1-2019Q3.csv'\n",
    "\n",
    "save_dir = '/media/dmlab/My Passport/DATA/hot_topic_detection_in_central_bankers_speeches'\n",
    "save_filepath = os.path.join(save_dir, 'top5_hot_topics_bigram_TextRank.csv')"
   ]
  },
  {
   "cell_type": "code",
   "execution_count": 3,
   "id": "0f4f68f2",
   "metadata": {},
   "outputs": [
    {
     "name": "stdout",
     "output_type": "stream",
     "text": [
      "['1998_Q1', '1998_Q2', '1998_Q3', '1998_Q4', '1999_Q1', '1999_Q2', '1999_Q3', '1999_Q4', '2000_Q1', '2000_Q2', '2000_Q3', '2000_Q4', '2001_Q1', '2001_Q2', '2001_Q3', '2001_Q4', '2002_Q1', '2002_Q2', '2002_Q3', '2002_Q4', '2003_Q1', '2003_Q2', '2003_Q3', '2003_Q4', '2004_Q1', '2004_Q2', '2004_Q3', '2004_Q4', '2005_Q1', '2005_Q2', '2005_Q3', '2005_Q4', '2006_Q1', '2006_Q2', '2006_Q3', '2006_Q4', '2007_Q1', '2007_Q2', '2007_Q3', '2007_Q4', '2008_Q1', '2008_Q2', '2008_Q3', '2008_Q4', '2009_Q1', '2009_Q2', '2009_Q3', '2009_Q4', '2010_Q1', '2010_Q2', '2010_Q3', '2010_Q4', '2011_Q1', '2011_Q2', '2011_Q3', '2011_Q4', '2012_Q1', '2012_Q2', '2012_Q3', '2012_Q4', '2013_Q1', '2013_Q2', '2013_Q3', '2013_Q4', '2014_Q1', '2014_Q2', '2014_Q3', '2014_Q4', '2015_Q1', '2015_Q2', '2015_Q3', '2015_Q4', '2016_Q1', '2016_Q2', '2016_Q3', '2016_Q4', '2017_Q1', '2017_Q2', '2017_Q3', '2017_Q4', '2018_Q1', '2018_Q2', '2018_Q3', '2018_Q4', '2019_Q1', '2019_Q2', '2019_Q3']\n"
     ]
    },
    {
     "data": {
      "text/html": [
       "<div>\n",
       "<style scoped>\n",
       "    .dataframe tbody tr th:only-of-type {\n",
       "        vertical-align: middle;\n",
       "    }\n",
       "\n",
       "    .dataframe tbody tr th {\n",
       "        vertical-align: top;\n",
       "    }\n",
       "\n",
       "    .dataframe thead th {\n",
       "        text-align: right;\n",
       "    }\n",
       "</style>\n",
       "<table border=\"1\" class=\"dataframe\">\n",
       "  <thead>\n",
       "    <tr style=\"text-align: right;\">\n",
       "      <th></th>\n",
       "      <th>tokens</th>\n",
       "      <th>num_of_tokens</th>\n",
       "    </tr>\n",
       "    <tr>\n",
       "      <th>period</th>\n",
       "      <th></th>\n",
       "      <th></th>\n",
       "    </tr>\n",
       "  </thead>\n",
       "  <tbody>\n",
       "    <tr>\n",
       "      <th>1998_Q1</th>\n",
       "      <td>s remark american economic association america...</td>\n",
       "      <td>10804</td>\n",
       "    </tr>\n",
       "    <tr>\n",
       "      <th>1998_Q2</th>\n",
       "      <td>discus ascendance capitalism remark chairman g...</td>\n",
       "      <td>6988</td>\n",
       "    </tr>\n",
       "    <tr>\n",
       "      <th>1998_Q3</th>\n",
       "      <td>present u reserve s mid year report monetary t...</td>\n",
       "      <td>9722</td>\n",
       "    </tr>\n",
       "    <tr>\n",
       "      <th>1998_Q4</th>\n",
       "      <td>testifies private sector refinancing large hed...</td>\n",
       "      <td>2091</td>\n",
       "    </tr>\n",
       "    <tr>\n",
       "      <th>1999_Q1</th>\n",
       "      <td>testifies state u economy testimony chairman g...</td>\n",
       "      <td>6197</td>\n",
       "    </tr>\n",
       "  </tbody>\n",
       "</table>\n",
       "</div>"
      ],
      "text/plain": [
       "                                                    tokens  num_of_tokens\n",
       "period                                                                   \n",
       "1998_Q1  s remark american economic association america...          10804\n",
       "1998_Q2  discus ascendance capitalism remark chairman g...           6988\n",
       "1998_Q3  present u reserve s mid year report monetary t...           9722\n",
       "1998_Q4  testifies private sector refinancing large hed...           2091\n",
       "1999_Q1  testifies state u economy testimony chairman g...           6197"
      ]
     },
     "execution_count": 3,
     "metadata": {},
     "output_type": "execute_result"
    }
   ],
   "source": [
    "df = pd.read_csv(filepath)\n",
    "df = df[df['period'].apply(lambda x: x[:4]!='1997')]\n",
    "sorted_periods = sorted(df['period'].unique())\n",
    "print(sorted_periods)\n",
    "df.set_index('period', inplace=True)\n",
    "df.head()"
   ]
  },
  {
   "cell_type": "code",
   "execution_count": 4,
   "id": "253bd4c1",
   "metadata": {},
   "outputs": [
    {
     "name": "stderr",
     "output_type": "stream",
     "text": [
      "100%|██████████| 87/87 [00:37<00:00,  2.35it/s]"
     ]
    },
    {
     "name": "stdout",
     "output_type": "stream",
     "text": [
      "Created /media/dmlab/My Passport/DATA/hot_topic_detection_in_central_bankers_speeches/top5_hot_topics_bigram_TextRank.csv\n"
     ]
    },
    {
     "name": "stderr",
     "output_type": "stream",
     "text": [
      "\n"
     ]
    }
   ],
   "source": [
    "dfs = []\n",
    "for period in tqdm(sorted_periods):\n",
    "    _df = pd.DataFrame(keywords(df.loc[period]['tokens']).split('\\n')[:5], columns=['word'])\n",
    "    _df['period'] = period\n",
    "    dfs.append(_df)\n",
    "\n",
    "\n",
    "top5_df = pd.concat(dfs)\n",
    "top5_df.reset_index(drop=True, inplace=True)\n",
    "\n",
    "top5_df.to_csv(save_filepath, index=False)\n",
    "print('Created {}'.format(save_filepath))"
   ]
  },
  {
   "cell_type": "code",
   "execution_count": 5,
   "id": "348085e4",
   "metadata": {},
   "outputs": [
    {
     "data": {
      "text/html": [
       "<div>\n",
       "<style scoped>\n",
       "    .dataframe tbody tr th:only-of-type {\n",
       "        vertical-align: middle;\n",
       "    }\n",
       "\n",
       "    .dataframe tbody tr th {\n",
       "        vertical-align: top;\n",
       "    }\n",
       "\n",
       "    .dataframe thead th {\n",
       "        text-align: right;\n",
       "    }\n",
       "</style>\n",
       "<table border=\"1\" class=\"dataframe\">\n",
       "  <thead>\n",
       "    <tr style=\"text-align: right;\">\n",
       "      <th></th>\n",
       "      <th>word</th>\n",
       "      <th>period</th>\n",
       "    </tr>\n",
       "  </thead>\n",
       "  <tbody>\n",
       "    <tr>\n",
       "      <th>5</th>\n",
       "      <td>economy</td>\n",
       "      <td>1998_Q2</td>\n",
       "    </tr>\n",
       "    <tr>\n",
       "      <th>6</th>\n",
       "      <td>capital</td>\n",
       "      <td>1998_Q2</td>\n",
       "    </tr>\n",
       "    <tr>\n",
       "      <th>7</th>\n",
       "      <td>increase</td>\n",
       "      <td>1998_Q2</td>\n",
       "    </tr>\n",
       "    <tr>\n",
       "      <th>8</th>\n",
       "      <td>risk</td>\n",
       "      <td>1998_Q2</td>\n",
       "    </tr>\n",
       "    <tr>\n",
       "      <th>9</th>\n",
       "      <td>risking</td>\n",
       "      <td>1998_Q2</td>\n",
       "    </tr>\n",
       "    <tr>\n",
       "      <th>40</th>\n",
       "      <td>business</td>\n",
       "      <td>2000_Q1</td>\n",
       "    </tr>\n",
       "    <tr>\n",
       "      <th>41</th>\n",
       "      <td>product</td>\n",
       "      <td>2000_Q1</td>\n",
       "    </tr>\n",
       "    <tr>\n",
       "      <th>42</th>\n",
       "      <td>productive</td>\n",
       "      <td>2000_Q1</td>\n",
       "    </tr>\n",
       "    <tr>\n",
       "      <th>43</th>\n",
       "      <td>increase</td>\n",
       "      <td>2000_Q1</td>\n",
       "    </tr>\n",
       "    <tr>\n",
       "      <th>44</th>\n",
       "      <td>increasing</td>\n",
       "      <td>2000_Q1</td>\n",
       "    </tr>\n",
       "    <tr>\n",
       "      <th>185</th>\n",
       "      <td>trading</td>\n",
       "      <td>2007_Q2</td>\n",
       "    </tr>\n",
       "    <tr>\n",
       "      <th>186</th>\n",
       "      <td>trade</td>\n",
       "      <td>2007_Q2</td>\n",
       "    </tr>\n",
       "    <tr>\n",
       "      <th>187</th>\n",
       "      <td>traded</td>\n",
       "      <td>2007_Q2</td>\n",
       "    </tr>\n",
       "    <tr>\n",
       "      <th>188</th>\n",
       "      <td>risk</td>\n",
       "      <td>2007_Q2</td>\n",
       "    </tr>\n",
       "    <tr>\n",
       "      <th>189</th>\n",
       "      <td>regulated</td>\n",
       "      <td>2007_Q2</td>\n",
       "    </tr>\n",
       "  </tbody>\n",
       "</table>\n",
       "</div>"
      ],
      "text/plain": [
       "           word   period\n",
       "5       economy  1998_Q2\n",
       "6       capital  1998_Q2\n",
       "7      increase  1998_Q2\n",
       "8          risk  1998_Q2\n",
       "9       risking  1998_Q2\n",
       "40     business  2000_Q1\n",
       "41      product  2000_Q1\n",
       "42   productive  2000_Q1\n",
       "43     increase  2000_Q1\n",
       "44   increasing  2000_Q1\n",
       "185     trading  2007_Q2\n",
       "186       trade  2007_Q2\n",
       "187      traded  2007_Q2\n",
       "188        risk  2007_Q2\n",
       "189   regulated  2007_Q2"
      ]
     },
     "execution_count": 5,
     "metadata": {},
     "output_type": "execute_result"
    }
   ],
   "source": [
    "# Key periods\n",
    "top5_df[(top5_df['period'].isin(['1998_Q2', '2000_Q1', '2007_Q2']))]"
   ]
  }
 ],
 "metadata": {
  "kernelspec": {
   "display_name": "torchtext",
   "language": "python",
   "name": "torchtext"
  },
  "language_info": {
   "codemirror_mode": {
    "name": "ipython",
    "version": 3
   },
   "file_extension": ".py",
   "mimetype": "text/x-python",
   "name": "python",
   "nbconvert_exporter": "python",
   "pygments_lexer": "ipython3",
   "version": "3.6.5"
  }
 },
 "nbformat": 4,
 "nbformat_minor": 5
}
