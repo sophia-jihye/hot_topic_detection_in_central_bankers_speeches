{
 "cells": [
  {
   "cell_type": "markdown",
   "metadata": {},
   "source": [
    "RAKE: https://pypi.org/project/rake-nltk/\n",
    "\n",
    "```\n",
    "pip install rake-nltk\n",
    "```"
   ]
  },
  {
   "cell_type": "code",
   "execution_count": 1,
   "metadata": {},
   "outputs": [],
   "source": [
    "from rake_nltk import Rake\n",
    "import os\n",
    "import pandas as pd\n",
    "from tqdm import tqdm"
   ]
  },
  {
   "cell_type": "code",
   "execution_count": 5,
   "metadata": {},
   "outputs": [],
   "source": [
    "filepath = 'data/preprocessed_sentences_for_each_period_1997Q1-2019Q3.csv'\n",
    "\n",
    "save_dir = 'C:\\DATA\\hot_topic_detection_in_central_bankers_speeches'\n",
    "save_filepath = os.path.join(save_dir, 'top5_hot_topics_RAKE.csv')"
   ]
  },
  {
   "cell_type": "code",
   "execution_count": 3,
   "metadata": {},
   "outputs": [
    {
     "data": {
      "text/html": [
       "<div>\n",
       "<style scoped>\n",
       "    .dataframe tbody tr th:only-of-type {\n",
       "        vertical-align: middle;\n",
       "    }\n",
       "\n",
       "    .dataframe tbody tr th {\n",
       "        vertical-align: top;\n",
       "    }\n",
       "\n",
       "    .dataframe thead th {\n",
       "        text-align: right;\n",
       "    }\n",
       "</style>\n",
       "<table border=\"1\" class=\"dataframe\">\n",
       "  <thead>\n",
       "    <tr style=\"text-align: right;\">\n",
       "      <th></th>\n",
       "      <th>document</th>\n",
       "    </tr>\n",
       "    <tr>\n",
       "      <th>period</th>\n",
       "      <th></th>\n",
       "    </tr>\n",
       "  </thead>\n",
       "  <tbody>\n",
       "    <tr>\n",
       "      <th>1997_Q1</th>\n",
       "      <td>Mr. Greenspan addresses some key roles of a ce...</td>\n",
       "    </tr>\n",
       "    <tr>\n",
       "      <th>1997_Q2</th>\n",
       "      <td>Mr. Greenspan highlights some key aspects of t...</td>\n",
       "    </tr>\n",
       "    <tr>\n",
       "      <th>1997_Q3</th>\n",
       "      <td>Mr. Greenspan presents the views of the Federa...</td>\n",
       "    </tr>\n",
       "    <tr>\n",
       "      <th>1997_Q4</th>\n",
       "      <td>Mr. Greenspan considers some of the effects of...</td>\n",
       "    </tr>\n",
       "    <tr>\n",
       "      <th>1998_Q1</th>\n",
       "      <td>Mr. Greenspan’s remarks to the American Econom...</td>\n",
       "    </tr>\n",
       "  </tbody>\n",
       "</table>\n",
       "</div>"
      ],
      "text/plain": [
       "                                                  document\n",
       "period                                                    \n",
       "1997_Q1  Mr. Greenspan addresses some key roles of a ce...\n",
       "1997_Q2  Mr. Greenspan highlights some key aspects of t...\n",
       "1997_Q3  Mr. Greenspan presents the views of the Federa...\n",
       "1997_Q4  Mr. Greenspan considers some of the effects of...\n",
       "1998_Q1  Mr. Greenspan’s remarks to the American Econom..."
      ]
     },
     "execution_count": 3,
     "metadata": {},
     "output_type": "execute_result"
    }
   ],
   "source": [
    "df = pd.read_csv(filepath)\n",
    "sorted_periods = sorted(df[df['period'].apply(lambda x: x[:4]!='1997')].period.unique())\n",
    "df.set_index('period', inplace=True)\n",
    "df.head()"
   ]
  },
  {
   "cell_type": "code",
   "execution_count": 4,
   "metadata": {},
   "outputs": [],
   "source": [
    "r = Rake()"
   ]
  },
  {
   "cell_type": "code",
   "execution_count": 24,
   "metadata": {},
   "outputs": [
    {
     "name": "stderr",
     "output_type": "stream",
     "text": [
      "100%|██████████████████████████████████████████████████████████████████████████████████| 87/87 [00:17<00:00,  4.90it/s]"
     ]
    },
    {
     "name": "stdout",
     "output_type": "stream",
     "text": [
      "Created C:\\DATA\\hot_topic_detection_in_central_bankers_speeches\\top5_hot_topics_RAKE.csv\n"
     ]
    },
    {
     "name": "stderr",
     "output_type": "stream",
     "text": [
      "\n"
     ]
    }
   ],
   "source": [
    "dfs = []\n",
    "for period in tqdm(sorted_periods):\n",
    "    doc = df.loc[period]['document']\n",
    "    r.extract_keywords_from_text(doc)\n",
    "    keywords = r.get_ranked_phrases_with_scores()\n",
    "    one_period_df = pd.DataFrame(keywords, columns=['score', 'word'])\n",
    "    one_period_df.sort_values(by=['score'], ascending=False, inplace=True)\n",
    "    one_period_df['period'] = period\n",
    "    dfs.append(one_period_df[:5])\n",
    "top5_df = pd.concat(dfs)\n",
    "\n",
    "top5_df.to_csv(save_filepath, index=False)\n",
    "print('Created {}'.format(save_filepath))"
   ]
  },
  {
   "cell_type": "code",
   "execution_count": 25,
   "metadata": {},
   "outputs": [
    {
     "data": {
      "text/html": [
       "<div>\n",
       "<style scoped>\n",
       "    .dataframe tbody tr th:only-of-type {\n",
       "        vertical-align: middle;\n",
       "    }\n",
       "\n",
       "    .dataframe tbody tr th {\n",
       "        vertical-align: top;\n",
       "    }\n",
       "\n",
       "    .dataframe thead th {\n",
       "        text-align: right;\n",
       "    }\n",
       "</style>\n",
       "<table border=\"1\" class=\"dataframe\">\n",
       "  <thead>\n",
       "    <tr style=\"text-align: right;\">\n",
       "      <th></th>\n",
       "      <th>score</th>\n",
       "      <th>word</th>\n",
       "      <th>period</th>\n",
       "    </tr>\n",
       "  </thead>\n",
       "  <tbody>\n",
       "    <tr>\n",
       "      <th>0</th>\n",
       "      <td>47.214286</td>\n",
       "      <td>earliest times -- certainly since renaissance ...</td>\n",
       "      <td>1998_Q2</td>\n",
       "    </tr>\n",
       "    <tr>\n",
       "      <th>1</th>\n",
       "      <td>39.151852</td>\n",
       "      <td>central planning regime became apparent little...</td>\n",
       "      <td>1998_Q2</td>\n",
       "    </tr>\n",
       "    <tr>\n",
       "      <th>2</th>\n",
       "      <td>37.948148</td>\n",
       "      <td>member countries facing international financia...</td>\n",
       "      <td>1998_Q2</td>\n",
       "    </tr>\n",
       "    <tr>\n",
       "      <th>3</th>\n",
       "      <td>37.444444</td>\n",
       "      <td>decades ago called “ creative destruction ”.</td>\n",
       "      <td>1998_Q2</td>\n",
       "    </tr>\n",
       "    <tr>\n",
       "      <th>4</th>\n",
       "      <td>35.580952</td>\n",
       "      <td>potential losses however incurred increased la...</td>\n",
       "      <td>1998_Q2</td>\n",
       "    </tr>\n",
       "    <tr>\n",
       "      <th>0</th>\n",
       "      <td>55.714286</td>\n",
       "      <td>clearly demonstrated regulatory exemptions unl...</td>\n",
       "      <td>2000_Q1</td>\n",
       "    </tr>\n",
       "    <tr>\n",
       "      <th>1</th>\n",
       "      <td>49.755448</td>\n",
       "      <td>constituents regarding community reinvestment ...</td>\n",
       "      <td>2000_Q1</td>\n",
       "    </tr>\n",
       "    <tr>\n",
       "      <th>2</th>\n",
       "      <td>41.107805</td>\n",
       "      <td>total unit cost increases last year remained e...</td>\n",
       "      <td>2000_Q1</td>\n",
       "    </tr>\n",
       "    <tr>\n",
       "      <th>3</th>\n",
       "      <td>40.733219</td>\n",
       "      <td>capacity per real dollar invested clearly rose...</td>\n",
       "      <td>2000_Q1</td>\n",
       "    </tr>\n",
       "    <tr>\n",
       "      <th>4</th>\n",
       "      <td>36.295238</td>\n",
       "      <td>consolidated sense reduced cost generally mean...</td>\n",
       "      <td>2000_Q1</td>\n",
       "    </tr>\n",
       "    <tr>\n",
       "      <th>0</th>\n",
       "      <td>55.041538</td>\n",
       "      <td>house prices decelerated sharply last year fol...</td>\n",
       "      <td>2007_Q2</td>\n",
       "    </tr>\n",
       "    <tr>\n",
       "      <th>1</th>\n",
       "      <td>45.038528</td>\n",
       "      <td>march school august february chamber business ...</td>\n",
       "      <td>2007_Q2</td>\n",
       "    </tr>\n",
       "    <tr>\n",
       "      <th>2</th>\n",
       "      <td>44.178571</td>\n",
       "      <td>distinguished speaker series fuqua university ...</td>\n",
       "      <td>2007_Q2</td>\n",
       "    </tr>\n",
       "    <tr>\n",
       "      <th>3</th>\n",
       "      <td>41.117240</td>\n",
       "      <td>effective loan restructuring borrowers facing ...</td>\n",
       "      <td>2007_Q2</td>\n",
       "    </tr>\n",
       "    <tr>\n",
       "      <th>4</th>\n",
       "      <td>40.666874</td>\n",
       "      <td>state laws affecting commercial bank branching...</td>\n",
       "      <td>2007_Q2</td>\n",
       "    </tr>\n",
       "  </tbody>\n",
       "</table>\n",
       "</div>"
      ],
      "text/plain": [
       "       score                                               word   period\n",
       "0  47.214286  earliest times -- certainly since renaissance ...  1998_Q2\n",
       "1  39.151852  central planning regime became apparent little...  1998_Q2\n",
       "2  37.948148  member countries facing international financia...  1998_Q2\n",
       "3  37.444444       decades ago called “ creative destruction ”.  1998_Q2\n",
       "4  35.580952  potential losses however incurred increased la...  1998_Q2\n",
       "0  55.714286  clearly demonstrated regulatory exemptions unl...  2000_Q1\n",
       "1  49.755448  constituents regarding community reinvestment ...  2000_Q1\n",
       "2  41.107805  total unit cost increases last year remained e...  2000_Q1\n",
       "3  40.733219  capacity per real dollar invested clearly rose...  2000_Q1\n",
       "4  36.295238  consolidated sense reduced cost generally mean...  2000_Q1\n",
       "0  55.041538  house prices decelerated sharply last year fol...  2007_Q2\n",
       "1  45.038528  march school august february chamber business ...  2007_Q2\n",
       "2  44.178571  distinguished speaker series fuqua university ...  2007_Q2\n",
       "3  41.117240  effective loan restructuring borrowers facing ...  2007_Q2\n",
       "4  40.666874  state laws affecting commercial bank branching...  2007_Q2"
      ]
     },
     "execution_count": 25,
     "metadata": {},
     "output_type": "execute_result"
    }
   ],
   "source": [
    "# Key periods\n",
    "top5_df[(top5_df['period'].isin(['1998_Q2', '2000_Q1', '2007_Q2']))]"
   ]
  }
 ],
 "metadata": {
  "kernelspec": {
   "display_name": "Python 3 (ipykernel)",
   "language": "python",
   "name": "python3"
  },
  "language_info": {
   "codemirror_mode": {
    "name": "ipython",
    "version": 3
   },
   "file_extension": ".py",
   "mimetype": "text/x-python",
   "name": "python",
   "nbconvert_exporter": "python",
   "pygments_lexer": "ipython3",
   "version": "3.8.5"
  }
 },
 "nbformat": 4,
 "nbformat_minor": 4
}
