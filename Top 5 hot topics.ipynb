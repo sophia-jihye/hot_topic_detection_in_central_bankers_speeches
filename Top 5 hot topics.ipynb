{
 "cells": [
  {
   "cell_type": "code",
   "execution_count": 1,
   "id": "4664e216",
   "metadata": {},
   "outputs": [],
   "source": [
    "import os\n",
    "import pandas as pd\n",
    "from tqdm import tqdm"
   ]
  },
  {
   "cell_type": "code",
   "execution_count": 2,
   "id": "8c1716f2",
   "metadata": {},
   "outputs": [],
   "source": [
    "filepath_format = '/media/dmlab/My Passport/DATA/hot_topic_detection_in_central_bankers_speeches/candidates_{}_{}.csv'\n",
    "\n",
    "save_dir = '/media/dmlab/My Passport/DATA/hot_topic_detection_in_central_bankers_speeches'\n",
    "if not os.path.exists(save_dir): os.makedirs(save_dir)\n",
    "save_filepath_format = os.path.join(save_dir, 'top5_hot_topics_{}_{}.csv')"
   ]
  },
  {
   "cell_type": "code",
   "execution_count": 3,
   "id": "a4ebcb87",
   "metadata": {},
   "outputs": [
    {
     "name": "stdout",
     "output_type": "stream",
     "text": [
      "bigram frequency\n"
     ]
    },
    {
     "name": "stderr",
     "output_type": "stream",
     "text": [
      "100%|██████████| 87/87 [00:02<00:00, 38.07it/s]\n"
     ]
    },
    {
     "name": "stdout",
     "output_type": "stream",
     "text": [
      "Created /media/dmlab/My Passport/DATA/hot_topic_detection_in_central_bankers_speeches/top5_hot_topics_bigram_frequency.csv\n",
      "bigram emergence\n"
     ]
    },
    {
     "name": "stderr",
     "output_type": "stream",
     "text": [
      "100%|██████████| 87/87 [00:02<00:00, 41.19it/s]\n"
     ]
    },
    {
     "name": "stdout",
     "output_type": "stream",
     "text": [
      "Created /media/dmlab/My Passport/DATA/hot_topic_detection_in_central_bankers_speeches/top5_hot_topics_bigram_emergence.csv\n",
      "collocation frequency\n"
     ]
    },
    {
     "name": "stderr",
     "output_type": "stream",
     "text": [
      "100%|██████████| 87/87 [00:25<00:00,  3.42it/s]\n"
     ]
    },
    {
     "name": "stdout",
     "output_type": "stream",
     "text": [
      "Created /media/dmlab/My Passport/DATA/hot_topic_detection_in_central_bankers_speeches/top5_hot_topics_collocation_frequency.csv\n",
      "collocation emergence\n"
     ]
    },
    {
     "name": "stderr",
     "output_type": "stream",
     "text": [
      "100%|██████████| 87/87 [00:23<00:00,  3.74it/s]"
     ]
    },
    {
     "name": "stdout",
     "output_type": "stream",
     "text": [
      "Created /media/dmlab/My Passport/DATA/hot_topic_detection_in_central_bankers_speeches/top5_hot_topics_collocation_emergence.csv\n"
     ]
    },
    {
     "name": "stderr",
     "output_type": "stream",
     "text": [
      "\n"
     ]
    }
   ],
   "source": [
    "# Key results\n",
    "for (candidate, scoring) in [('bigram', 'frequency'), ('bigram', 'emergence'),\\\n",
    "                             ('collocation', 'frequency'), ('collocation', 'emergence')]:\n",
    "    print(candidate, scoring)\n",
    "    filepath = filepath_format.format(candidate, scoring)\n",
    "    df = pd.read_csv(filepath)\n",
    "    \n",
    "    sorted_periods = sorted(df[df['period'].apply(lambda x: x[:4]!='1997')].period.unique())\n",
    "\n",
    "    records = []\n",
    "    for period in tqdm(sorted_periods):\n",
    "        rows = df[(df['period']==period)].sort_values(by=['score'], ascending=False).iloc[:5].values\n",
    "        records.extend(rows)\n",
    "    top5_df = pd.DataFrame(records, columns=['period', 'word', 'score'])\n",
    "\n",
    "    save_filepath = save_filepath_format.format(candidate, scoring)\n",
    "    top5_df.to_csv(save_filepath, index=False)\n",
    "    print('Created {}'.format(save_filepath))"
   ]
  }
 ],
 "metadata": {
  "kernelspec": {
   "display_name": "torchtext",
   "language": "python",
   "name": "torchtext"
  },
  "language_info": {
   "codemirror_mode": {
    "name": "ipython",
    "version": 3
   },
   "file_extension": ".py",
   "mimetype": "text/x-python",
   "name": "python",
   "nbconvert_exporter": "python",
   "pygments_lexer": "ipython3",
   "version": "3.6.5"
  }
 },
 "nbformat": 4,
 "nbformat_minor": 5
}
