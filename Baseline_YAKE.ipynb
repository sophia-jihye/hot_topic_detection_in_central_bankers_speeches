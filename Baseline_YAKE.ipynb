{
 "cells": [
  {
   "cell_type": "markdown",
   "metadata": {},
   "source": [
    "yake: https://github.com/LIAAD/yake\n",
    "\n",
    "```\n",
    "pip install git+https://github.com/LIAAD/yake\n",
    "```"
   ]
  },
  {
   "cell_type": "code",
   "execution_count": 5,
   "metadata": {},
   "outputs": [],
   "source": [
    "import yake\n",
    "import os\n",
    "import pandas as pd\n",
    "from tqdm import tqdm"
   ]
  },
  {
   "cell_type": "code",
   "execution_count": 6,
   "metadata": {},
   "outputs": [],
   "source": [
    "filepath = 'data/preprocessed_sentences_for_each_period_1997Q1-2019Q3.csv'\n",
    "\n",
    "save_dir = 'C:\\DATA\\hot_topic_detection_in_central_bankers_speeches'\n",
    "save_filepath = os.path.join(save_dir, 'top5_hot_topics_YAKE.csv')"
   ]
  },
  {
   "cell_type": "code",
   "execution_count": 8,
   "metadata": {},
   "outputs": [
    {
     "data": {
      "text/html": [
       "<div>\n",
       "<style scoped>\n",
       "    .dataframe tbody tr th:only-of-type {\n",
       "        vertical-align: middle;\n",
       "    }\n",
       "\n",
       "    .dataframe tbody tr th {\n",
       "        vertical-align: top;\n",
       "    }\n",
       "\n",
       "    .dataframe thead th {\n",
       "        text-align: right;\n",
       "    }\n",
       "</style>\n",
       "<table border=\"1\" class=\"dataframe\">\n",
       "  <thead>\n",
       "    <tr style=\"text-align: right;\">\n",
       "      <th></th>\n",
       "      <th>document</th>\n",
       "    </tr>\n",
       "    <tr>\n",
       "      <th>period</th>\n",
       "      <th></th>\n",
       "    </tr>\n",
       "  </thead>\n",
       "  <tbody>\n",
       "    <tr>\n",
       "      <th>1997_Q1</th>\n",
       "      <td>Mr. Greenspan addresses some key roles of a ce...</td>\n",
       "    </tr>\n",
       "    <tr>\n",
       "      <th>1997_Q2</th>\n",
       "      <td>Mr. Greenspan highlights some key aspects of t...</td>\n",
       "    </tr>\n",
       "    <tr>\n",
       "      <th>1997_Q3</th>\n",
       "      <td>Mr. Greenspan presents the views of the Federa...</td>\n",
       "    </tr>\n",
       "    <tr>\n",
       "      <th>1997_Q4</th>\n",
       "      <td>Mr. Greenspan considers some of the effects of...</td>\n",
       "    </tr>\n",
       "    <tr>\n",
       "      <th>1998_Q1</th>\n",
       "      <td>Mr. Greenspan’s remarks to the American Econom...</td>\n",
       "    </tr>\n",
       "  </tbody>\n",
       "</table>\n",
       "</div>"
      ],
      "text/plain": [
       "                                                  document\n",
       "period                                                    \n",
       "1997_Q1  Mr. Greenspan addresses some key roles of a ce...\n",
       "1997_Q2  Mr. Greenspan highlights some key aspects of t...\n",
       "1997_Q3  Mr. Greenspan presents the views of the Federa...\n",
       "1997_Q4  Mr. Greenspan considers some of the effects of...\n",
       "1998_Q1  Mr. Greenspan’s remarks to the American Econom..."
      ]
     },
     "execution_count": 8,
     "metadata": {},
     "output_type": "execute_result"
    }
   ],
   "source": [
    "df = pd.read_csv(filepath)\n",
    "sorted_periods = sorted(df[df['period'].apply(lambda x: x[:4]!='1997')].period.unique())\n",
    "df.set_index('period', inplace=True)\n",
    "df.head()"
   ]
  },
  {
   "cell_type": "code",
   "execution_count": 9,
   "metadata": {},
   "outputs": [],
   "source": [
    "kw_extractor = yake.KeywordExtractor()"
   ]
  },
  {
   "cell_type": "code",
   "execution_count": 18,
   "metadata": {},
   "outputs": [
    {
     "data": {
      "text/html": [
       "<div>\n",
       "<style scoped>\n",
       "    .dataframe tbody tr th:only-of-type {\n",
       "        vertical-align: middle;\n",
       "    }\n",
       "\n",
       "    .dataframe tbody tr th {\n",
       "        vertical-align: top;\n",
       "    }\n",
       "\n",
       "    .dataframe thead th {\n",
       "        text-align: right;\n",
       "    }\n",
       "</style>\n",
       "<table border=\"1\" class=\"dataframe\">\n",
       "  <thead>\n",
       "    <tr style=\"text-align: right;\">\n",
       "      <th></th>\n",
       "      <th>word</th>\n",
       "      <th>score</th>\n",
       "      <th>period</th>\n",
       "    </tr>\n",
       "  </thead>\n",
       "  <tbody>\n",
       "    <tr>\n",
       "      <th>19</th>\n",
       "      <td>Federal Reserve credit</td>\n",
       "      <td>0.001721</td>\n",
       "      <td>2011_Q1</td>\n",
       "    </tr>\n",
       "    <tr>\n",
       "      <th>18</th>\n",
       "      <td>economic</td>\n",
       "      <td>0.001667</td>\n",
       "      <td>2011_Q1</td>\n",
       "    </tr>\n",
       "    <tr>\n",
       "      <th>17</th>\n",
       "      <td>financial system</td>\n",
       "      <td>0.001596</td>\n",
       "      <td>2011_Q1</td>\n",
       "    </tr>\n",
       "    <tr>\n",
       "      <th>16</th>\n",
       "      <td>bank reserves remain</td>\n",
       "      <td>0.001415</td>\n",
       "      <td>2011_Q1</td>\n",
       "    </tr>\n",
       "    <tr>\n",
       "      <th>15</th>\n",
       "      <td>BIS central bankers’</td>\n",
       "      <td>0.001362</td>\n",
       "      <td>2011_Q1</td>\n",
       "    </tr>\n",
       "  </tbody>\n",
       "</table>\n",
       "</div>"
      ],
      "text/plain": [
       "                      word     score   period\n",
       "19  Federal Reserve credit  0.001721  2011_Q1\n",
       "18                economic  0.001667  2011_Q1\n",
       "17        financial system  0.001596  2011_Q1\n",
       "16    bank reserves remain  0.001415  2011_Q1\n",
       "15    BIS central bankers’  0.001362  2011_Q1"
      ]
     },
     "execution_count": 18,
     "metadata": {},
     "output_type": "execute_result"
    }
   ],
   "source": [
    "one_period_df[:5]"
   ]
  },
  {
   "cell_type": "code",
   "execution_count": 19,
   "metadata": {},
   "outputs": [
    {
     "name": "stderr",
     "output_type": "stream",
     "text": [
      "100%|██████████████████████████████████████████████████████████████████████████████████| 87/87 [04:53<00:00,  3.37s/it]"
     ]
    },
    {
     "name": "stdout",
     "output_type": "stream",
     "text": [
      "Created C:\\DATA\\hot_topic_detection_in_central_bankers_speeches\\top5_hot_topics_YAKE.csv\n"
     ]
    },
    {
     "name": "stderr",
     "output_type": "stream",
     "text": [
      "\n"
     ]
    }
   ],
   "source": [
    "dfs = []\n",
    "for period in tqdm(sorted_periods):\n",
    "    doc = df.loc[period]['document']\n",
    "    keywords = kw_extractor.extract_keywords(doc)\n",
    "    one_period_df = pd.DataFrame(keywords, columns=['word', 'score'])\n",
    "    one_period_df.sort_values(by=['score'], ascending=False, inplace=True)\n",
    "    one_period_df['period'] = period\n",
    "    dfs.append(one_period_df[:5])\n",
    "top5_df = pd.concat(dfs)\n",
    "\n",
    "top5_df.to_csv(save_filepath, index=False)\n",
    "print('Created {}'.format(save_filepath))"
   ]
  },
  {
   "cell_type": "code",
   "execution_count": 20,
   "metadata": {},
   "outputs": [
    {
     "data": {
      "text/html": [
       "<div>\n",
       "<style scoped>\n",
       "    .dataframe tbody tr th:only-of-type {\n",
       "        vertical-align: middle;\n",
       "    }\n",
       "\n",
       "    .dataframe tbody tr th {\n",
       "        vertical-align: top;\n",
       "    }\n",
       "\n",
       "    .dataframe thead th {\n",
       "        text-align: right;\n",
       "    }\n",
       "</style>\n",
       "<table border=\"1\" class=\"dataframe\">\n",
       "  <thead>\n",
       "    <tr style=\"text-align: right;\">\n",
       "      <th></th>\n",
       "      <th>word</th>\n",
       "      <th>score</th>\n",
       "      <th>period</th>\n",
       "    </tr>\n",
       "  </thead>\n",
       "  <tbody>\n",
       "    <tr>\n",
       "      <th>19</th>\n",
       "      <td>economic</td>\n",
       "      <td>0.007744</td>\n",
       "      <td>1998_Q2</td>\n",
       "    </tr>\n",
       "    <tr>\n",
       "      <th>18</th>\n",
       "      <td>United States</td>\n",
       "      <td>0.007250</td>\n",
       "      <td>1998_Q2</td>\n",
       "    </tr>\n",
       "    <tr>\n",
       "      <th>17</th>\n",
       "      <td>market capitalism</td>\n",
       "      <td>0.006842</td>\n",
       "      <td>1998_Q2</td>\n",
       "    </tr>\n",
       "    <tr>\n",
       "      <th>16</th>\n",
       "      <td>East Asia</td>\n",
       "      <td>0.006374</td>\n",
       "      <td>1998_Q2</td>\n",
       "    </tr>\n",
       "    <tr>\n",
       "      <th>15</th>\n",
       "      <td>economies</td>\n",
       "      <td>0.006349</td>\n",
       "      <td>1998_Q2</td>\n",
       "    </tr>\n",
       "    <tr>\n",
       "      <th>19</th>\n",
       "      <td>business</td>\n",
       "      <td>0.007918</td>\n",
       "      <td>2000_Q1</td>\n",
       "    </tr>\n",
       "    <tr>\n",
       "      <th>18</th>\n",
       "      <td>productivity growth</td>\n",
       "      <td>0.007421</td>\n",
       "      <td>2000_Q1</td>\n",
       "    </tr>\n",
       "    <tr>\n",
       "      <th>17</th>\n",
       "      <td>productivity</td>\n",
       "      <td>0.007349</td>\n",
       "      <td>2000_Q1</td>\n",
       "    </tr>\n",
       "    <tr>\n",
       "      <th>16</th>\n",
       "      <td>market</td>\n",
       "      <td>0.006849</td>\n",
       "      <td>2000_Q1</td>\n",
       "    </tr>\n",
       "    <tr>\n",
       "      <th>15</th>\n",
       "      <td>demand</td>\n",
       "      <td>0.006504</td>\n",
       "      <td>2000_Q1</td>\n",
       "    </tr>\n",
       "    <tr>\n",
       "      <th>19</th>\n",
       "      <td>financial institutions</td>\n",
       "      <td>0.001094</td>\n",
       "      <td>2007_Q2</td>\n",
       "    </tr>\n",
       "    <tr>\n",
       "      <th>18</th>\n",
       "      <td>credit</td>\n",
       "      <td>0.001069</td>\n",
       "      <td>2007_Q2</td>\n",
       "    </tr>\n",
       "    <tr>\n",
       "      <th>17</th>\n",
       "      <td>financial system</td>\n",
       "      <td>0.001065</td>\n",
       "      <td>2007_Q2</td>\n",
       "    </tr>\n",
       "    <tr>\n",
       "      <th>16</th>\n",
       "      <td>Review Federal Reserve</td>\n",
       "      <td>0.001031</td>\n",
       "      <td>2007_Q2</td>\n",
       "    </tr>\n",
       "    <tr>\n",
       "      <th>15</th>\n",
       "      <td>banks</td>\n",
       "      <td>0.001028</td>\n",
       "      <td>2007_Q2</td>\n",
       "    </tr>\n",
       "  </tbody>\n",
       "</table>\n",
       "</div>"
      ],
      "text/plain": [
       "                      word     score   period\n",
       "19                economic  0.007744  1998_Q2\n",
       "18           United States  0.007250  1998_Q2\n",
       "17       market capitalism  0.006842  1998_Q2\n",
       "16               East Asia  0.006374  1998_Q2\n",
       "15               economies  0.006349  1998_Q2\n",
       "19                business  0.007918  2000_Q1\n",
       "18     productivity growth  0.007421  2000_Q1\n",
       "17            productivity  0.007349  2000_Q1\n",
       "16                  market  0.006849  2000_Q1\n",
       "15                  demand  0.006504  2000_Q1\n",
       "19  financial institutions  0.001094  2007_Q2\n",
       "18                  credit  0.001069  2007_Q2\n",
       "17        financial system  0.001065  2007_Q2\n",
       "16  Review Federal Reserve  0.001031  2007_Q2\n",
       "15                   banks  0.001028  2007_Q2"
      ]
     },
     "execution_count": 20,
     "metadata": {},
     "output_type": "execute_result"
    }
   ],
   "source": [
    "# Key periods\n",
    "top5_df[(top5_df['period'].isin(['1998_Q2', '2000_Q1', '2007_Q2']))]"
   ]
  }
 ],
 "metadata": {
  "kernelspec": {
   "display_name": "Python 3 (ipykernel)",
   "language": "python",
   "name": "python3"
  },
  "language_info": {
   "codemirror_mode": {
    "name": "ipython",
    "version": 3
   },
   "file_extension": ".py",
   "mimetype": "text/x-python",
   "name": "python",
   "nbconvert_exporter": "python",
   "pygments_lexer": "ipython3",
   "version": "3.8.5"
  }
 },
 "nbformat": 4,
 "nbformat_minor": 4
}
