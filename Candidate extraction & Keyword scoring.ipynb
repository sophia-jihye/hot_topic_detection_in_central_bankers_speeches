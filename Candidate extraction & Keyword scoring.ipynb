{
 "cells": [
  {
   "cell_type": "code",
   "execution_count": 1,
   "id": "742352b2",
   "metadata": {},
   "outputs": [],
   "source": [
    "import os, copy\n",
    "import pandas as pd\n",
    "from collections import Counter\n",
    "from tqdm import tqdm"
   ]
  },
  {
   "cell_type": "code",
   "execution_count": 2,
   "id": "73b65728",
   "metadata": {},
   "outputs": [],
   "source": [
    "filepath = 'data/preprocessed_1997Q1-2019Q3.csv'\n",
    "\n",
    "save_dir = '/media/dmlab/My Passport/DATA/hot_topic_detection_in_central_bankers_speeches'\n",
    "if not os.path.exists(save_dir): os.makedirs(save_dir)\n",
    "save_filepath_format = os.path.join(save_dir, 'candidates_{}_{}.csv')"
   ]
  },
  {
   "cell_type": "code",
   "execution_count": 3,
   "id": "8f9bd51e",
   "metadata": {},
   "outputs": [
    {
     "name": "stdout",
     "output_type": "stream",
     "text": [
      "['1997_Q1', '1997_Q2', '1997_Q3', '1997_Q4', '1998_Q1', '1998_Q2', '1998_Q3', '1998_Q4', '1999_Q1', '1999_Q2', '1999_Q3', '1999_Q4', '2000_Q1', '2000_Q2', '2000_Q3', '2000_Q4', '2001_Q1', '2001_Q2', '2001_Q3', '2001_Q4', '2002_Q1', '2002_Q2', '2002_Q3', '2002_Q4', '2003_Q1', '2003_Q2', '2003_Q3', '2003_Q4', '2004_Q1', '2004_Q2', '2004_Q3', '2004_Q4', '2005_Q1', '2005_Q2', '2005_Q3', '2005_Q4', '2006_Q1', '2006_Q2', '2006_Q3', '2006_Q4', '2007_Q1', '2007_Q2', '2007_Q3', '2007_Q4', '2008_Q1', '2008_Q2', '2008_Q3', '2008_Q4', '2009_Q1', '2009_Q2', '2009_Q3', '2009_Q4', '2010_Q1', '2010_Q2', '2010_Q3', '2010_Q4', '2011_Q1', '2011_Q2', '2011_Q3', '2011_Q4', '2012_Q1', '2012_Q2', '2012_Q3', '2012_Q4', '2013_Q1', '2013_Q2', '2013_Q3', '2013_Q4', '2014_Q1', '2014_Q2', '2014_Q3', '2014_Q4', '2015_Q1', '2015_Q2', '2015_Q3', '2015_Q4', '2016_Q1', '2016_Q2', '2016_Q3', '2016_Q4', '2017_Q1', '2017_Q2', '2017_Q3', '2017_Q4', '2018_Q1', '2018_Q2', '2018_Q3', '2018_Q4', '2019_Q1', '2019_Q2', '2019_Q3']\n"
     ]
    },
    {
     "data": {
      "text/html": [
       "<div>\n",
       "<style scoped>\n",
       "    .dataframe tbody tr th:only-of-type {\n",
       "        vertical-align: middle;\n",
       "    }\n",
       "\n",
       "    .dataframe tbody tr th {\n",
       "        vertical-align: top;\n",
       "    }\n",
       "\n",
       "    .dataframe thead th {\n",
       "        text-align: right;\n",
       "    }\n",
       "</style>\n",
       "<table border=\"1\" class=\"dataframe\">\n",
       "  <thead>\n",
       "    <tr style=\"text-align: right;\">\n",
       "      <th></th>\n",
       "      <th>tokens</th>\n",
       "      <th>num_of_tokens</th>\n",
       "    </tr>\n",
       "    <tr>\n",
       "      <th>period</th>\n",
       "      <th></th>\n",
       "      <th></th>\n",
       "    </tr>\n",
       "  </thead>\n",
       "  <tbody>\n",
       "    <tr>\n",
       "      <th>1997_Q1</th>\n",
       "      <td>address key role remark chairman governor u re...</td>\n",
       "      <td>16246</td>\n",
       "    </tr>\n",
       "    <tr>\n",
       "      <th>1997_Q2</th>\n",
       "      <td>highlight key aspect current economic situatio...</td>\n",
       "      <td>13432</td>\n",
       "    </tr>\n",
       "    <tr>\n",
       "      <th>1997_Q3</th>\n",
       "      <td>present view reserve semi annual humphrey hawk...</td>\n",
       "      <td>6409</td>\n",
       "    </tr>\n",
       "    <tr>\n",
       "      <th>1997_Q4</th>\n",
       "      <td>considers effect technological change remark c...</td>\n",
       "      <td>15038</td>\n",
       "    </tr>\n",
       "    <tr>\n",
       "      <th>1998_Q1</th>\n",
       "      <td>s remark american economic association america...</td>\n",
       "      <td>10804</td>\n",
       "    </tr>\n",
       "  </tbody>\n",
       "</table>\n",
       "</div>"
      ],
      "text/plain": [
       "                                                    tokens  num_of_tokens\n",
       "period                                                                   \n",
       "1997_Q1  address key role remark chairman governor u re...          16246\n",
       "1997_Q2  highlight key aspect current economic situatio...          13432\n",
       "1997_Q3  present view reserve semi annual humphrey hawk...           6409\n",
       "1997_Q4  considers effect technological change remark c...          15038\n",
       "1998_Q1  s remark american economic association america...          10804"
      ]
     },
     "execution_count": 3,
     "metadata": {},
     "output_type": "execute_result"
    }
   ],
   "source": [
    "df = pd.read_csv(filepath)\n",
    "df.set_index('period', inplace=True)\n",
    "sorted_periods = sorted(list(df.index))\n",
    "print(sorted_periods)\n",
    "df.head()"
   ]
  },
  {
   "cell_type": "code",
   "execution_count": 4,
   "id": "9780bc9b",
   "metadata": {},
   "outputs": [],
   "source": [
    "def concat_values_for_reversed_order_of_key(counter):\n",
    "    keys = copy.copy(list(counter.keys()))\n",
    "    for (one, two) in keys:\n",
    "        if counter[(one, two)] >= counter[(two, one)]:\n",
    "            counter[(one, two)] += counter[(two, one)]\n",
    "            del counter[(two, one)]\n",
    "        else:\n",
    "            counter[(two, one)] += counter[(one, two)]\n",
    "            del counter[(one, two)]\n",
    "            \n",
    "def get_bigram_counter(tokens):\n",
    "    bigram_counter = Counter(list(zip(tokens, tokens[1:])))\n",
    "    concat_values_for_reversed_order_of_key(bigram_counter)\n",
    "    return bigram_counter\n",
    "\n",
    "def get_15_collocation_counter(tokens):\n",
    "    # 15-window collocation & frequency\n",
    "    # 2, 3, 4, 5, 6, 7, 8, 9, 10, 11, 12, 13, 14, 15-gram\n",
    "    collocation_counter = Counter()\n",
    "    for i in range(1, 14+1):\n",
    "        collocation_counter.update(list(zip(tokens, tokens[i:])))\n",
    "    concat_values_for_reversed_order_of_key(collocation_counter)\n",
    "    return collocation_counter\n",
    "\n",
    "def get_previous_period(current_period, how_many_quarters):\n",
    "    if not sorted_periods.index(current_period)>=4:\n",
    "        raise Exception('Keyword extraction is only available from the 1998_Q1')\n",
    "    previous_quarter = sorted_periods[sorted_periods.index(current_period)-how_many_quarters]\n",
    "    return previous_quarter"
   ]
  },
  {
   "cell_type": "code",
   "execution_count": 5,
   "id": "5dd06528",
   "metadata": {},
   "outputs": [
    {
     "name": "stderr",
     "output_type": "stream",
     "text": [
      "100%|██████████| 91/91 [00:01<00:00, 69.03it/s]\n",
      "100%|██████████| 91/91 [00:00<00:00, 331.73it/s]\n"
     ]
    },
    {
     "name": "stdout",
     "output_type": "stream",
     "text": [
      "Created /media/dmlab/My Passport/DATA/hot_topic_detection_in_central_bankers_speeches/candidates_bigram_frequency.csv\n"
     ]
    },
    {
     "name": "stderr",
     "output_type": "stream",
     "text": [
      "100%|██████████| 91/91 [00:06<00:00, 14.60it/s]\n"
     ]
    },
    {
     "name": "stdout",
     "output_type": "stream",
     "text": [
      "Created /media/dmlab/My Passport/DATA/hot_topic_detection_in_central_bankers_speeches/candidates_bigram_emergence.csv\n"
     ]
    }
   ],
   "source": [
    "dictionary_value_is_bigram_counter = dict()\n",
    "for period in tqdm(sorted_periods):\n",
    "    tokens = df.loc[period]['tokens'].split(' ')\n",
    "    bigram_counter = get_bigram_counter(tokens)\n",
    "    dictionary_value_is_bigram_counter[period] = bigram_counter\n",
    "\n",
    "# Bigram & Frequency\n",
    "records = []\n",
    "for period in tqdm(sorted_periods):\n",
    "    counter = dictionary_value_is_bigram_counter[period]\n",
    "    for tuple_key, current_freq in counter.items():\n",
    "        records.append((period, ' '.join(tuple_key), current_freq))\n",
    "\n",
    "candidates_df = pd.DataFrame(records, columns=['period', 'word', 'score'])\n",
    "\n",
    "save_filepath = save_filepath_format.format('bigram', 'frequency')\n",
    "candidates_df.to_csv(save_filepath, index=False)\n",
    "print('Created {}'.format(save_filepath))\n",
    "\n",
    "# Bigram & Emergence score\n",
    "records = []\n",
    "for period in tqdm(sorted_periods):\n",
    "    counter = dictionary_value_is_bigram_counter[period]\n",
    "    \n",
    "    try:\n",
    "        for tuple_key, current_freq in counter.items():\n",
    "            denominator = 0\n",
    "            for i in range(1,4+1):\n",
    "                previous_quarter = get_previous_period(period, i)\n",
    "                prev_freq = dictionary_value_is_bigram_counter[previous_quarter][tuple_key]\n",
    "                denominator += (prev_freq + 1)\n",
    "                denominator /= 4\n",
    "            emergence_score = current_freq / denominator\n",
    "\n",
    "            records.append((period, ' '.join(tuple_key), emergence_score))\n",
    "    except: continue\n",
    "        \n",
    "candidates_df = pd.DataFrame(records, columns=['period', 'word', 'score'])\n",
    "\n",
    "save_filepath = save_filepath_format.format('bigram', 'emergence')\n",
    "candidates_df.to_csv(save_filepath, index=False)\n",
    "print('Created {}'.format(save_filepath))"
   ]
  },
  {
   "cell_type": "code",
   "execution_count": 6,
   "id": "0bae7ebe",
   "metadata": {},
   "outputs": [
    {
     "name": "stderr",
     "output_type": "stream",
     "text": [
      "100%|██████████| 91/91 [00:17<00:00,  5.24it/s]\n",
      "100%|██████████| 91/91 [00:02<00:00, 30.96it/s]\n"
     ]
    },
    {
     "name": "stdout",
     "output_type": "stream",
     "text": [
      "Created /media/dmlab/My Passport/DATA/hot_topic_detection_in_central_bankers_speeches/candidates_collocation_frequency.csv\n"
     ]
    },
    {
     "name": "stderr",
     "output_type": "stream",
     "text": [
      "100%|██████████| 91/91 [01:12<00:00,  1.25it/s]\n"
     ]
    },
    {
     "name": "stdout",
     "output_type": "stream",
     "text": [
      "Created /media/dmlab/My Passport/DATA/hot_topic_detection_in_central_bankers_speeches/candidates_collocation_emergence.csv\n"
     ]
    }
   ],
   "source": [
    "dictionary_value_is_collocation_counter = dict()\n",
    "for period in tqdm(sorted_periods):\n",
    "    tokens = df.loc[period]['tokens'].split(' ')\n",
    "    collocation_counter = get_15_collocation_counter(tokens)\n",
    "    dictionary_value_is_collocation_counter[period] = collocation_counter\n",
    "\n",
    "# Collocation & Frequency\n",
    "records = []\n",
    "for period in tqdm(sorted_periods):\n",
    "    counter = dictionary_value_is_collocation_counter[period]\n",
    "    for tuple_key, current_freq in counter.items():\n",
    "        records.append((period, ' '.join(tuple_key), current_freq))\n",
    "\n",
    "candidates_df = pd.DataFrame(records, columns=['period', 'word', 'score'])\n",
    "\n",
    "save_filepath = save_filepath_format.format('collocation', 'frequency')\n",
    "candidates_df.to_csv(save_filepath, index=False)\n",
    "print('Created {}'.format(save_filepath))\n",
    "\n",
    "# Collocation & Emergence score\n",
    "records = []\n",
    "for period in tqdm(sorted_periods):\n",
    "    counter = dictionary_value_is_collocation_counter[period]\n",
    "    \n",
    "    try:\n",
    "        for tuple_key, current_freq in counter.items():\n",
    "            denominator = 0\n",
    "            for i in range(1,4+1):\n",
    "                previous_quarter = get_previous_period(period, i)\n",
    "                prev_freq = dictionary_value_is_collocation_counter[previous_quarter][tuple_key]\n",
    "                denominator += (prev_freq + 1)\n",
    "                denominator /= 4\n",
    "            emergence_score = current_freq / denominator\n",
    "\n",
    "            records.append((period, ' '.join(tuple_key), emergence_score))\n",
    "    except: continue\n",
    "        \n",
    "candidates_df = pd.DataFrame(records, columns=['period', 'word', 'score'])\n",
    "\n",
    "save_filepath = save_filepath_format.format('collocation', 'emergence')\n",
    "candidates_df.to_csv(save_filepath, index=False)\n",
    "print('Created {}'.format(save_filepath))"
   ]
  }
 ],
 "metadata": {
  "kernelspec": {
   "display_name": "torchtext",
   "language": "python",
   "name": "torchtext"
  },
  "language_info": {
   "codemirror_mode": {
    "name": "ipython",
    "version": 3
   },
   "file_extension": ".py",
   "mimetype": "text/x-python",
   "name": "python",
   "nbconvert_exporter": "python",
   "pygments_lexer": "ipython3",
   "version": "3.6.5"
  }
 },
 "nbformat": 4,
 "nbformat_minor": 5
}
