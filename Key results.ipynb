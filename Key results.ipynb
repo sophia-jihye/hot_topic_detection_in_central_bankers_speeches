{
 "cells": [
  {
   "cell_type": "code",
   "execution_count": 2,
   "id": "0043227d",
   "metadata": {},
   "outputs": [],
   "source": [
    "import os\n",
    "import pandas as pd"
   ]
  },
  {
   "cell_type": "code",
   "execution_count": 3,
   "id": "90c31472",
   "metadata": {},
   "outputs": [],
   "source": [
    "filepath_format = '/media/dmlab/My Passport/DATA/hot_topic_detection_in_central_bankers_speeches/candidates_{}_{}.csv'"
   ]
  },
  {
   "cell_type": "code",
   "execution_count": 4,
   "id": "7ad63ba2",
   "metadata": {},
   "outputs": [
    {
     "name": "stdout",
     "output_type": "stream",
     "text": [
      "bigram frequency\n",
      "        period             word  score\n",
      "50744  1998_Q2        have been     35\n",
      "51203  1998_Q2       safety net     13\n",
      "51078  1998_Q2  standard living     13\n",
      "51902  1998_Q2    interest rate     11\n",
      "51864  1998_Q2         not have     10\n",
      "bigram emergence\n",
      "        period                word      score\n",
      "9003   1998_Q2           east asia  22.755556\n",
      "11088  1998_Q2          new system  20.597701\n",
      "13408  1998_Q2               imf s  14.883721\n",
      "10870  1998_Q2  nonperforming loan  14.545455\n",
      "9266   1998_Q2           high tech  14.222222\n",
      "bigram frequency\n",
      "        period                    word  score\n",
      "89766  2000_Q1               have been     32\n",
      "89836  2000_Q1            good service     21\n",
      "89769  2000_Q1             recent year     20\n",
      "89954  2000_Q1  information technology     18\n",
      "91166  2000_Q1           wealth effect     14\n",
      "bigram emergence\n",
      "        period                    word      score\n",
      "48240  2000_Q1  information technology  38.722689\n",
      "49498  2000_Q1           demand supply  36.141176\n",
      "49865  2000_Q1           excess demand  30.117647\n",
      "49687  2000_Q1              net import  27.105882\n",
      "50473  2000_Q1           working group  24.094118\n",
      "bigram frequency\n",
      "         period               word  score\n",
      "320550  2007_Q2         hedge fund     55\n",
      "318068  2007_Q2                u s     52\n",
      "320292  2007_Q2       united state     34\n",
      "320099  2007_Q2  subprime mortgage     32\n",
      "317797  2007_Q2     reserve system     24\n",
      "bigram emergence\n",
      "         period               word      score\n",
      "278385  2007_Q2  subprime mortgage  86.231579\n",
      "289128  2007_Q2    finance premium  60.235294\n",
      "289127  2007_Q2   external finance  60.235294\n",
      "285451  2007_Q2          cash flow  48.188235\n",
      "282040  2007_Q2           job loss  41.195402\n"
     ]
    }
   ],
   "source": [
    "# Key results\n",
    "for period in ['1998_Q2', '2000_Q1', '2007_Q2']:\n",
    "    for (candidate, scoring) in [('bigram', 'frequency'), ('bigram', 'emergence')]:\n",
    "        print(candidate, scoring)\n",
    "        filepath = filepath_format.format(candidate, scoring)\n",
    "        df = pd.read_csv(filepath)\n",
    "        print(df[(df['period']==period)].sort_values(by=['score'], ascending=False).iloc[:5])"
   ]
  },
  {
   "cell_type": "code",
   "execution_count": 6,
   "id": "420f7099",
   "metadata": {},
   "outputs": [
    {
     "name": "stdout",
     "output_type": "stream",
     "text": [
      "bigram frequency\n",
      "         period               word  score\n",
      "311074  2007_Q1  subprime mortgage      6\n",
      "320099  2007_Q2  subprime mortgage     32\n",
      "bigram emergence\n",
      "         period               word      score\n",
      "269360  2007_Q1  subprime mortgage  17.860465\n",
      "278385  2007_Q2  subprime mortgage  86.231579\n"
     ]
    }
   ],
   "source": [
    "# \"subprime mortgage\"\n",
    "for (candidate, scoring) in [('bigram', 'frequency'), ('bigram', 'emergence')]:\n",
    "    print(candidate, scoring)\n",
    "    filepath = filepath_format.format(candidate, scoring)\n",
    "    df = pd.read_csv(filepath)\n",
    "    print(df[(df['period'].isin(['2007_Q1', '2007_Q2'])) & (df['word']=='subprime mortgage')])"
   ]
  }
 ],
 "metadata": {
  "kernelspec": {
   "display_name": "torchtext",
   "language": "python",
   "name": "torchtext"
  },
  "language_info": {
   "codemirror_mode": {
    "name": "ipython",
    "version": 3
   },
   "file_extension": ".py",
   "mimetype": "text/x-python",
   "name": "python",
   "nbconvert_exporter": "python",
   "pygments_lexer": "ipython3",
   "version": "3.6.5"
  }
 },
 "nbformat": 4,
 "nbformat_minor": 5
}
