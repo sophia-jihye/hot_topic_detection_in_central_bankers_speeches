{
 "cells": [
  {
   "cell_type": "markdown",
   "metadata": {},
   "source": [
    "Reference\n",
    "* https://radimrehurek.com/gensim/models/ldamodel.html\n",
    "* https://medium.com/analytics-vidhya/topic-modeling-using-gensim-lda-in-python-48eaa2344920"
   ]
  },
  {
   "cell_type": "code",
   "execution_count": 1,
   "metadata": {},
   "outputs": [],
   "source": [
    "import os\n",
    "import pandas as pd\n",
    "import gensim\n",
    "from pprint import pprint\n",
    "\n",
    "import pyLDAvis\n",
    "from pyLDAvis import gensim_models\n",
    "pyLDAvis.enable_notebook()"
   ]
  },
  {
   "cell_type": "code",
   "execution_count": 2,
   "metadata": {},
   "outputs": [],
   "source": [
    "filepath = 'data/preprocessed_speeches_1997Q1-2019Q3.csv'"
   ]
  },
  {
   "cell_type": "code",
   "execution_count": 4,
   "metadata": {},
   "outputs": [
    {
     "data": {
      "text/html": [
       "<div>\n",
       "<style scoped>\n",
       "    .dataframe tbody tr th:only-of-type {\n",
       "        vertical-align: middle;\n",
       "    }\n",
       "\n",
       "    .dataframe tbody tr th {\n",
       "        vertical-align: top;\n",
       "    }\n",
       "\n",
       "    .dataframe thead th {\n",
       "        text-align: right;\n",
       "    }\n",
       "</style>\n",
       "<table border=\"1\" class=\"dataframe\">\n",
       "  <thead>\n",
       "    <tr style=\"text-align: right;\">\n",
       "      <th></th>\n",
       "      <th>tokens</th>\n",
       "      <th>period</th>\n",
       "    </tr>\n",
       "  </thead>\n",
       "  <tbody>\n",
       "    <tr>\n",
       "      <th>0</th>\n",
       "      <td>discus technology u economy remark chairman go...</td>\n",
       "      <td>2000_Q1</td>\n",
       "    </tr>\n",
       "    <tr>\n",
       "      <th>1</th>\n",
       "      <td>give testimony over the counter derivative tes...</td>\n",
       "      <td>2000_Q1</td>\n",
       "    </tr>\n",
       "    <tr>\n",
       "      <th>2</th>\n",
       "      <td>present reserve s semi annual report economy m...</td>\n",
       "      <td>2000_Q1</td>\n",
       "    </tr>\n",
       "    <tr>\n",
       "      <th>3</th>\n",
       "      <td>focus revolution information technology implic...</td>\n",
       "      <td>2000_Q1</td>\n",
       "    </tr>\n",
       "    <tr>\n",
       "      <th>4</th>\n",
       "      <td>remark economic challenge facing united state ...</td>\n",
       "      <td>2000_Q1</td>\n",
       "    </tr>\n",
       "    <tr>\n",
       "      <th>...</th>\n",
       "      <td>...</td>\n",
       "      <td>...</td>\n",
       "    </tr>\n",
       "    <tr>\n",
       "      <th>486</th>\n",
       "      <td>release delivery a m edt a m cdt june opening ...</td>\n",
       "      <td>2019_Q2</td>\n",
       "    </tr>\n",
       "    <tr>\n",
       "      <th>487</th>\n",
       "      <td>h economic outlook monetary review speech h ch...</td>\n",
       "      <td>2019_Q2</td>\n",
       "    </tr>\n",
       "    <tr>\n",
       "      <th>488</th>\n",
       "      <td>h welcoming remark stress testing discussion r...</td>\n",
       "      <td>2019_Q3</td>\n",
       "    </tr>\n",
       "    <tr>\n",
       "      <th>489</th>\n",
       "      <td>h monetary post crisis era speech h chair gove...</td>\n",
       "      <td>2019_Q3</td>\n",
       "    </tr>\n",
       "    <tr>\n",
       "      <th>490</th>\n",
       "      <td>release delivery a m edt a m local time august...</td>\n",
       "      <td>2019_Q3</td>\n",
       "    </tr>\n",
       "  </tbody>\n",
       "</table>\n",
       "<p>491 rows × 2 columns</p>\n",
       "</div>"
      ],
      "text/plain": [
       "                                                tokens   period\n",
       "0    discus technology u economy remark chairman go...  2000_Q1\n",
       "1    give testimony over the counter derivative tes...  2000_Q1\n",
       "2    present reserve s semi annual report economy m...  2000_Q1\n",
       "3    focus revolution information technology implic...  2000_Q1\n",
       "4    remark economic challenge facing united state ...  2000_Q1\n",
       "..                                                 ...      ...\n",
       "486  release delivery a m edt a m cdt june opening ...  2019_Q2\n",
       "487  h economic outlook monetary review speech h ch...  2019_Q2\n",
       "488  h welcoming remark stress testing discussion r...  2019_Q3\n",
       "489  h monetary post crisis era speech h chair gove...  2019_Q3\n",
       "490  release delivery a m edt a m local time august...  2019_Q3\n",
       "\n",
       "[491 rows x 2 columns]"
      ]
     },
     "execution_count": 4,
     "metadata": {},
     "output_type": "execute_result"
    }
   ],
   "source": [
    "df = pd.read_csv(filepath)\n",
    "df"
   ]
  },
  {
   "cell_type": "code",
   "execution_count": 27,
   "metadata": {},
   "outputs": [
    {
     "name": "stderr",
     "output_type": "stream",
     "text": [
      "C:\\Users\\Jihye Park\\anaconda3\\lib\\site-packages\\ipykernel\\ipkernel.py:287: DeprecationWarning: `should_run_async` will not call `transform_cell` automatically in the future. Please pass the result to `transformed_cell` argument and any exception that happen during thetransform in `preprocessing_exc_tuple` in IPython 7.17 and above.\n",
      "  and should_run_async(code)\n"
     ]
    },
    {
     "name": "stdout",
     "output_type": "stream",
     "text": [
      "===1998_Q2===\n",
      "[(0,\n",
      "  '0.018*\"have\" + 0.016*\"is\" + 0.015*\"imf\" + 0.010*\"not\" + 0.009*\"crisis\" + '\n",
      "  '0.009*\"been\" + 0.008*\"economy\" + 0.008*\"system\" + 0.008*\"asian\" + '\n",
      "  '0.007*\"be\"'),\n",
      " (1,\n",
      "  '0.001*\"have\" + 0.001*\"is\" + 0.001*\"be\" + 0.001*\"not\" + 0.001*\"are\" + '\n",
      "  '0.001*\"system\" + 0.001*\"been\" + 0.001*\"risk\" + 0.001*\"economy\" + '\n",
      "  '0.001*\"more\"'),\n",
      " (2,\n",
      "  '0.017*\"is\" + 0.013*\"economy\" + 0.011*\"not\" + 0.010*\"system\" + 0.010*\"are\" + '\n",
      "  '0.008*\"have\" + 0.007*\"be\" + 0.006*\"consumer\" + 0.006*\"state\" + '\n",
      "  '0.006*\"planning\"'),\n",
      " (3,\n",
      "  '0.023*\"have\" + 0.016*\"been\" + 0.011*\"growth\" + 0.010*\"be\" + '\n",
      "  '0.010*\"increase\" + 0.009*\"economy\" + 0.009*\"price\" + 0.009*\"year\" + '\n",
      "  '0.009*\"is\" + 0.008*\"not\"'),\n",
      " (4,\n",
      "  '0.017*\"system\" + 0.015*\"risk\" + 0.015*\"be\" + 0.015*\"is\" + 0.010*\"have\" + '\n",
      "  '0.010*\"not\" + 0.009*\"capital\" + 0.007*\"more\" + 0.006*\"are\" + '\n",
      "  '0.006*\"crisis\"')]\n"
     ]
    },
    {
     "name": "stderr",
     "output_type": "stream",
     "text": [
      "C:\\Users\\Jihye Park\\anaconda3\\lib\\site-packages\\pyLDAvis\\_prepare.py:246: FutureWarning: In a future version of pandas all arguments of DataFrame.drop except for the argument 'labels' will be keyword-only.\n",
      "  default_term_info = default_term_info.sort_values(\n"
     ]
    },
    {
     "name": "stdout",
     "output_type": "stream",
     "text": [
      "Created ./LDA_1998_Q2.html\n",
      "===2000_Q1===\n",
      "[(0,\n",
      "  '0.015*\"is\" + 0.013*\"have\" + 0.012*\"be\" + 0.011*\"are\" + 0.009*\"year\" + '\n",
      "  '0.008*\"budget\" + 0.008*\"not\" + 0.007*\"economy\" + 0.006*\"price\" + '\n",
      "  '0.006*\"been\"'),\n",
      " (1,\n",
      "  '0.013*\"is\" + 0.012*\"be\" + 0.012*\"have\" + 0.012*\"are\" + 0.010*\"technology\" + '\n",
      "  '0.009*\"capital\" + 0.009*\"not\" + 0.008*\"growth\" + 0.007*\"information\" + '\n",
      "  '0.007*\"business\"'),\n",
      " (2,\n",
      "  '0.002*\"is\" + 0.001*\"are\" + 0.001*\"have\" + 0.001*\"be\" + 0.001*\"not\" + '\n",
      "  '0.001*\"technology\" + 0.001*\"business\" + 0.001*\"capital\" + 0.001*\"growth\" + '\n",
      "  '0.001*\"increase\"'),\n",
      " (3,\n",
      "  '0.001*\"be\" + 0.001*\"is\" + 0.001*\"are\" + 0.001*\"year\" + 0.001*\"have\" + '\n",
      "  '0.001*\"economy\" + 0.001*\"economic\" + 0.001*\"capital\" + 0.001*\"growth\" + '\n",
      "  '0.001*\"not\"'),\n",
      " (4,\n",
      "  '0.013*\"have\" + 0.013*\"worker\" + 0.012*\"are\" + 0.012*\"is\" + 0.012*\"business\" '\n",
      "  '+ 0.010*\"community\" + 0.007*\"be\" + 0.007*\"not\" + 0.007*\"economic\" + '\n",
      "  '0.007*\"s\"')]\n"
     ]
    },
    {
     "name": "stderr",
     "output_type": "stream",
     "text": [
      "C:\\Users\\Jihye Park\\anaconda3\\lib\\site-packages\\pyLDAvis\\_prepare.py:246: FutureWarning: In a future version of pandas all arguments of DataFrame.drop except for the argument 'labels' will be keyword-only.\n",
      "  default_term_info = default_term_info.sort_values(\n"
     ]
    },
    {
     "name": "stdout",
     "output_type": "stream",
     "text": [
      "Created ./LDA_2000_Q1.html\n",
      "===2007_Q2===\n",
      "[(0,\n",
      "  '0.001*\"have\" + 0.001*\"s\" + 0.001*\"mortgage\" + 0.001*\"are\" + 0.001*\"is\" + '\n",
      "  '0.001*\"trade\" + 0.001*\"be\" + 0.000*\"risk\" + 0.000*\"borrower\" + '\n",
      "  '0.000*\"subprime\"'),\n",
      " (1,\n",
      "  '0.021*\"risk\" + 0.013*\"fund\" + 0.012*\"have\" + 0.011*\"are\" + 0.010*\"investor\" '\n",
      "  '+ 0.010*\"hedge\" + 0.008*\"be\" + 0.008*\"s\" + 0.008*\"is\" + 0.006*\"regulation\"'),\n",
      " (2,\n",
      "  '0.012*\"s\" + 0.012*\"i\" + 0.010*\"is\" + 0.009*\"wa\" + 0.007*\"not\" + '\n",
      "  '0.007*\"today\" + 0.007*\"washington\" + 0.007*\"school\" + 0.007*\"robinson\" + '\n",
      "  '0.006*\"education\"'),\n",
      " (3,\n",
      "  '0.027*\"trade\" + 0.016*\"s\" + 0.013*\"job\" + 0.012*\"is\" + 0.012*\"u\" + '\n",
      "  '0.008*\"are\" + 0.007*\"more\" + 0.007*\"have\" + 0.007*\"firm\" + 0.006*\"service\"'),\n",
      " (4,\n",
      "  '0.012*\"credit\" + 0.012*\"have\" + 0.012*\"mortgage\" + 0.008*\"be\" + '\n",
      "  '0.008*\"borrower\" + 0.008*\"lending\" + 0.008*\"are\" + 0.008*\"s\" + 0.007*\"cra\" '\n",
      "  '+ 0.007*\"loan\"')]\n"
     ]
    },
    {
     "name": "stderr",
     "output_type": "stream",
     "text": [
      "C:\\Users\\Jihye Park\\anaconda3\\lib\\site-packages\\pyLDAvis\\_prepare.py:246: FutureWarning: In a future version of pandas all arguments of DataFrame.drop except for the argument 'labels' will be keyword-only.\n",
      "  default_term_info = default_term_info.sort_values(\n"
     ]
    },
    {
     "name": "stdout",
     "output_type": "stream",
     "text": [
      "Created ./LDA_2007_Q2.html\n"
     ]
    }
   ],
   "source": [
    "for target_period in ['1998_Q2', '2000_Q1', '2007_Q2']:\n",
    "    print('==={}==='.format(target_period))\n",
    "    list_of_tokens_for_all_documents = [doc.split(' ') for doc in df[df['period']==target_period]['tokens']]\n",
    "    '''\n",
    "    `list_of_tokens_for_all_documents` is equivalent to `gensim.test.utils.common_texts`\n",
    "\n",
    "    [['human', 'interface', 'computer'],\n",
    "     ['survey', 'user', 'computer', 'system', 'response', 'time'],\n",
    "     ['eps', 'user', 'interface', 'system'],\n",
    "     ['system', 'human', 'system', 'eps'],\n",
    "     ['user', 'response', 'time'],\n",
    "     ['trees'],\n",
    "     ['graph', 'trees'],\n",
    "     ['graph', 'minors', 'trees'],\n",
    "     ['graph', 'minors', 'survey']]\n",
    "    '''\n",
    "\n",
    "    id2word = gensim.corpora.dictionary.Dictionary(list_of_tokens_for_all_documents)\n",
    "    corpus = [id2word.doc2bow(doc) for doc in list_of_tokens_for_all_documents]\n",
    "\n",
    "    '''\n",
    "    `corpus` structure example\n",
    "    Gensim creates unique id for each word in the document. Its mapping of word_id and word_frequency. \n",
    "    For example, (4,15) indicates, word_id 4 occurs 15 times in the document.\n",
    "\n",
    "    [[(0, 1), (1, 1), (2, 1)],\n",
    "     [(0, 1), (3, 1), (4, 1), (5, 1), (6, 1), (7, 1)],\n",
    "     [(2, 1), (5, 1), (7, 1), (8, 1)],\n",
    "     [(1, 1), (5, 2), (8, 1)],\n",
    "     [(3, 1), (6, 1), (7, 1)],\n",
    "     [(9, 1)],\n",
    "     [(9, 1), (10, 1)],\n",
    "     [(9, 1), (10, 1), (11, 1)],\n",
    "     [(4, 1), (10, 1), (11, 1)]]\n",
    "    '''\n",
    "\n",
    "    lda_model = gensim.models.ldamodel.LdaModel(corpus=corpus,\n",
    "                                               id2word=id2word,\n",
    "                                               num_topics=5, \n",
    "                                               random_state=100,\n",
    "                                               update_every=1,\n",
    "                                               chunksize=100,\n",
    "                                               passes=10,\n",
    "                                               alpha='auto',\n",
    "                                               per_word_topics=True)\n",
    "\n",
    "    pprint(lda_model.print_topics())\n",
    "\n",
    "    # pyLDAvis\n",
    "    vis = pyLDAvis.gensim_models.prepare(lda_model, corpus, id2word)\n",
    "\n",
    "    save_filepath = './LDA_{}.html'.format(target_period)\n",
    "    pyLDAvis.save_html(vis, save_filepath)\n",
    "    print('Created {}'.format(save_filepath))"
   ]
  }
 ],
 "metadata": {
  "kernelspec": {
   "display_name": "Python 3",
   "language": "python",
   "name": "python3"
  },
  "language_info": {
   "codemirror_mode": {
    "name": "ipython",
    "version": 3
   },
   "file_extension": ".py",
   "mimetype": "text/x-python",
   "name": "python",
   "nbconvert_exporter": "python",
   "pygments_lexer": "ipython3",
   "version": "3.8.5"
  }
 },
 "nbformat": 4,
 "nbformat_minor": 4
}
